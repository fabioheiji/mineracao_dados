{
 "cells": [
  {
   "cell_type": "code",
   "execution_count": 1,
   "metadata": {},
   "outputs": [],
   "source": [
    "import pandas as pd\n",
    "from ETL import discovery, discovery_log_dataframe\n",
    "import os\n",
    "import pm4py\n",
    "import matplotlib.pyplot as plt\n",
    "import seaborn as sns\n",
    "%matplotlib inline"
   ]
  },
  {
   "cell_type": "code",
   "execution_count": 2,
   "metadata": {},
   "outputs": [
    {
     "name": "stderr",
     "output_type": "stream",
     "text": [
      "/Users/yamada/miniforge3/envs/.env_mineracao/lib/python3.11/site-packages/tqdm/auto.py:21: TqdmWarning: IProgress not found. Please update jupyter and ipywidgets. See https://ipywidgets.readthedocs.io/en/stable/user_install.html\n",
      "  from .autonotebook import tqdm as notebook_tqdm\n",
      "parsing log, completed traces :: 100%|██████████| 2099/2099 [00:00<00:00, 4979.87it/s]\n",
      "/Users/yamada/miniforge3/envs/.env_mineracao/lib/python3.11/site-packages/pm4py/objects/log/util/dataframe_utils.py:176: UserWarning: Could not infer format, so each element will be parsed individually, falling back to `dateutil`. To ensure parsing is consistent and as-expected, please specify a format.\n",
      "  df[col] = pd.to_datetime(df[col], utc=True)\n",
      "/Users/yamada/miniforge3/envs/.env_mineracao/lib/python3.11/site-packages/pm4py/objects/log/util/dataframe_utils.py:176: UserWarning: Could not infer format, so each element will be parsed individually, falling back to `dateutil`. To ensure parsing is consistent and as-expected, please specify a format.\n",
      "  df[col] = pd.to_datetime(df[col], utc=True)\n",
      "/Users/yamada/miniforge3/envs/.env_mineracao/lib/python3.11/site-packages/pm4py/objects/log/util/dataframe_utils.py:176: UserWarning: Could not infer format, so each element will be parsed individually, falling back to `dateutil`. To ensure parsing is consistent and as-expected, please specify a format.\n",
      "  df[col] = pd.to_datetime(df[col], utc=True)\n",
      "/Users/yamada/miniforge3/envs/.env_mineracao/lib/python3.11/site-packages/pm4py/objects/log/util/dataframe_utils.py:176: UserWarning: Could not infer format, so each element will be parsed individually, falling back to `dateutil`. To ensure parsing is consistent and as-expected, please specify a format.\n",
      "  df[col] = pd.to_datetime(df[col], utc=True)\n",
      "/Users/yamada/miniforge3/envs/.env_mineracao/lib/python3.11/site-packages/pm4py/objects/log/util/dataframe_utils.py:176: UserWarning: Could not infer format, so each element will be parsed individually, falling back to `dateutil`. To ensure parsing is consistent and as-expected, please specify a format.\n",
      "  df[col] = pd.to_datetime(df[col], utc=True)\n",
      "/Users/yamada/miniforge3/envs/.env_mineracao/lib/python3.11/site-packages/pm4py/objects/log/util/dataframe_utils.py:176: UserWarning: Could not infer format, so each element will be parsed individually, falling back to `dateutil`. To ensure parsing is consistent and as-expected, please specify a format.\n",
      "  df[col] = pd.to_datetime(df[col], utc=True)\n",
      "/Users/yamada/miniforge3/envs/.env_mineracao/lib/python3.11/site-packages/pm4py/objects/log/util/dataframe_utils.py:176: UserWarning: Could not infer format, so each element will be parsed individually, falling back to `dateutil`. To ensure parsing is consistent and as-expected, please specify a format.\n",
      "  df[col] = pd.to_datetime(df[col], utc=True)\n",
      "/Users/yamada/miniforge3/envs/.env_mineracao/lib/python3.11/site-packages/pm4py/objects/log/util/dataframe_utils.py:176: UserWarning: Could not infer format, so each element will be parsed individually, falling back to `dateutil`. To ensure parsing is consistent and as-expected, please specify a format.\n",
      "  df[col] = pd.to_datetime(df[col], utc=True)\n",
      "/Users/yamada/miniforge3/envs/.env_mineracao/lib/python3.11/site-packages/pm4py/objects/log/util/dataframe_utils.py:176: UserWarning: Could not infer format, so each element will be parsed individually, falling back to `dateutil`. To ensure parsing is consistent and as-expected, please specify a format.\n",
      "  df[col] = pd.to_datetime(df[col], utc=True)\n",
      "/Users/yamada/miniforge3/envs/.env_mineracao/lib/python3.11/site-packages/pm4py/objects/log/util/dataframe_utils.py:176: UserWarning: Could not infer format, so each element will be parsed individually, falling back to `dateutil`. To ensure parsing is consistent and as-expected, please specify a format.\n",
      "  df[col] = pd.to_datetime(df[col], utc=True)\n",
      "/Users/yamada/miniforge3/envs/.env_mineracao/lib/python3.11/site-packages/pm4py/objects/log/util/dataframe_utils.py:176: UserWarning: Could not infer format, so each element will be parsed individually, falling back to `dateutil`. To ensure parsing is consistent and as-expected, please specify a format.\n",
      "  df[col] = pd.to_datetime(df[col], utc=True)\n",
      "/Users/yamada/miniforge3/envs/.env_mineracao/lib/python3.11/site-packages/pm4py/objects/log/util/dataframe_utils.py:176: UserWarning: Could not infer format, so each element will be parsed individually, falling back to `dateutil`. To ensure parsing is consistent and as-expected, please specify a format.\n",
      "  df[col] = pd.to_datetime(df[col], utc=True)\n",
      "/Users/yamada/miniforge3/envs/.env_mineracao/lib/python3.11/site-packages/pm4py/objects/log/util/dataframe_utils.py:176: UserWarning: Could not infer format, so each element will be parsed individually, falling back to `dateutil`. To ensure parsing is consistent and as-expected, please specify a format.\n",
      "  df[col] = pd.to_datetime(df[col], utc=True)\n",
      "/Users/yamada/miniforge3/envs/.env_mineracao/lib/python3.11/site-packages/pm4py/objects/log/util/dataframe_utils.py:176: UserWarning: Could not infer format, so each element will be parsed individually, falling back to `dateutil`. To ensure parsing is consistent and as-expected, please specify a format.\n",
      "  df[col] = pd.to_datetime(df[col], utc=True)\n",
      "/Users/yamada/miniforge3/envs/.env_mineracao/lib/python3.11/site-packages/pm4py/objects/log/util/dataframe_utils.py:176: UserWarning: Could not infer format, so each element will be parsed individually, falling back to `dateutil`. To ensure parsing is consistent and as-expected, please specify a format.\n",
      "  df[col] = pd.to_datetime(df[col], utc=True)\n",
      "/Users/yamada/miniforge3/envs/.env_mineracao/lib/python3.11/site-packages/pm4py/objects/log/util/dataframe_utils.py:176: UserWarning: Could not infer format, so each element will be parsed individually, falling back to `dateutil`. To ensure parsing is consistent and as-expected, please specify a format.\n",
      "  df[col] = pd.to_datetime(df[col], utc=True)\n",
      "/Users/yamada/miniforge3/envs/.env_mineracao/lib/python3.11/site-packages/pm4py/objects/log/util/dataframe_utils.py:176: UserWarning: Could not infer format, so each element will be parsed individually, falling back to `dateutil`. To ensure parsing is consistent and as-expected, please specify a format.\n",
      "  df[col] = pd.to_datetime(df[col], utc=True)\n",
      "/Users/yamada/miniforge3/envs/.env_mineracao/lib/python3.11/site-packages/pm4py/objects/log/util/dataframe_utils.py:176: UserWarning: Could not infer format, so each element will be parsed individually, falling back to `dateutil`. To ensure parsing is consistent and as-expected, please specify a format.\n",
      "  df[col] = pd.to_datetime(df[col], utc=True)\n",
      "replaying log with TBR, completed variants :: 100%|██████████| 903/903 [00:04<00:00, 214.11it/s]\n"
     ]
    },
    {
     "name": "stdout",
     "output_type": "stream",
     "text": [
      "Precision - Token replay: 0.12170953897488468\n"
     ]
    },
    {
     "name": "stderr",
     "output_type": "stream",
     "text": [
      "replaying log with TBR, completed variants :: 100%|██████████| 202/202 [00:00<00:00, 215.78it/s]\n"
     ]
    },
    {
     "name": "stdout",
     "output_type": "stream",
     "text": [
      "Generalization: 0.8949746643642011\n",
      "Simplicity: 0.5897435897435898\n"
     ]
    },
    {
     "name": "stderr",
     "output_type": "stream",
     "text": [
      "replaying log with TBR, completed variants :: 100%|██████████| 903/903 [00:00<00:00, 2087.90it/s]\n"
     ]
    },
    {
     "name": "stdout",
     "output_type": "stream",
     "text": [
      "Precision - Token replay: 0.958789019115937\n"
     ]
    },
    {
     "name": "stderr",
     "output_type": "stream",
     "text": [
      "replaying log with TBR, completed variants :: 100%|██████████| 202/202 [00:00<00:00, 978.48it/s] \n"
     ]
    },
    {
     "name": "stdout",
     "output_type": "stream",
     "text": [
      "Generalization: 0.5988575329285628\n",
      "Simplicity: 0.5238095238095238\n"
     ]
    },
    {
     "name": "stderr",
     "output_type": "stream",
     "text": [
      "replaying log with TBR, completed variants :: 100%|██████████| 903/903 [00:00<00:00, 6541.97it/s]\n"
     ]
    },
    {
     "name": "stdout",
     "output_type": "stream",
     "text": [
      "Precision - Token replay: 0.9821635672865426\n"
     ]
    },
    {
     "name": "stderr",
     "output_type": "stream",
     "text": [
      "replaying log with TBR, completed variants :: 100%|██████████| 202/202 [00:00<00:00, 2866.59it/s]\n"
     ]
    },
    {
     "name": "stdout",
     "output_type": "stream",
     "text": [
      "Generalization: 0.829298658766102\n",
      "Simplicity: 0.6103896103896105\n"
     ]
    },
    {
     "name": "stderr",
     "output_type": "stream",
     "text": [
      "replaying log with TBR, completed variants :: 100%|██████████| 903/903 [00:00<00:00, 17184.54it/s]\n"
     ]
    },
    {
     "name": "stdout",
     "output_type": "stream",
     "text": [
      "Precision - Token replay: 0.0\n"
     ]
    },
    {
     "name": "stderr",
     "output_type": "stream",
     "text": [
      "replaying log with TBR, completed variants :: 100%|██████████| 202/202 [00:00<00:00, 913.86it/s] \n"
     ]
    },
    {
     "name": "stdout",
     "output_type": "stream",
     "text": [
      "Generalization: 0.8773091720949231\n",
      "Simplicity: 0.19407894736842107\n"
     ]
    },
    {
     "name": "stderr",
     "output_type": "stream",
     "text": [
      "replaying log with TBR, completed variants :: 100%|██████████| 903/903 [00:00<00:00, 3429.52it/s]\n"
     ]
    },
    {
     "name": "stdout",
     "output_type": "stream",
     "text": [
      "Precision - Token replay: 1.0\n"
     ]
    },
    {
     "name": "stderr",
     "output_type": "stream",
     "text": [
      "replaying log with TBR, completed variants :: 100%|██████████| 202/202 [00:00<00:00, 410.81it/s]"
     ]
    },
    {
     "name": "stdout",
     "output_type": "stream",
     "text": [
      "Generalization: 0.8821865014090176\n",
      "Simplicity: 0.09100585417775413\n"
     ]
    },
    {
     "name": "stderr",
     "output_type": "stream",
     "text": [
      "\n"
     ]
    }
   ],
   "source": [
    "path_folder_file = \"/Users/yamada/USP/Materias/7 semestre/Mineracao de dados/Celonis Dataset/BPI Challenge 2020 - Prepaid Travel Costs/\"\n",
    "path_folder_bpmn = \"/Users/yamada/USP/Materias/7 semestre/Mineracao de dados/Celonis Dataset/BPI Challenge 2020 - Prepaid Travel Costs/\"\n",
    "path_folder_png = \".\"\n",
    "results = discovery(path_folder_file,path_folder_bpmn,path_folder_png)"
   ]
  },
  {
   "cell_type": "code",
   "execution_count": 3,
   "metadata": {},
   "outputs": [
    {
     "data": {
      "text/html": [
       "<div>\n",
       "<style scoped>\n",
       "    .dataframe tbody tr th:only-of-type {\n",
       "        vertical-align: middle;\n",
       "    }\n",
       "\n",
       "    .dataframe tbody tr th {\n",
       "        vertical-align: top;\n",
       "    }\n",
       "\n",
       "    .dataframe thead th {\n",
       "        text-align: right;\n",
       "    }\n",
       "</style>\n",
       "<table border=\"1\" class=\"dataframe\">\n",
       "  <thead>\n",
       "    <tr style=\"text-align: right;\">\n",
       "      <th></th>\n",
       "      <th>Inductive_Miner</th>\n",
       "      <th>Heuristic_Miner</th>\n",
       "      <th>Heuristic_Miner_0.99</th>\n",
       "      <th>Alpha</th>\n",
       "      <th>Alpha_Plus</th>\n",
       "    </tr>\n",
       "  </thead>\n",
       "  <tbody>\n",
       "    <tr>\n",
       "      <th>Precisao</th>\n",
       "      <td>0.121710</td>\n",
       "      <td>0.958789</td>\n",
       "      <td>0.982164</td>\n",
       "      <td>0.000000</td>\n",
       "      <td>1.000000</td>\n",
       "    </tr>\n",
       "    <tr>\n",
       "      <th>Generalizacao</th>\n",
       "      <td>0.894975</td>\n",
       "      <td>0.598858</td>\n",
       "      <td>0.829299</td>\n",
       "      <td>0.877309</td>\n",
       "      <td>0.882187</td>\n",
       "    </tr>\n",
       "    <tr>\n",
       "      <th>Simplicidade</th>\n",
       "      <td>0.589744</td>\n",
       "      <td>0.523810</td>\n",
       "      <td>0.610390</td>\n",
       "      <td>0.194079</td>\n",
       "      <td>0.091006</td>\n",
       "    </tr>\n",
       "  </tbody>\n",
       "</table>\n",
       "</div>"
      ],
      "text/plain": [
       "               Inductive_Miner  Heuristic_Miner  Heuristic_Miner_0.99   \n",
       "Precisao              0.121710         0.958789              0.982164  \\\n",
       "Generalizacao         0.894975         0.598858              0.829299   \n",
       "Simplicidade          0.589744         0.523810              0.610390   \n",
       "\n",
       "                  Alpha  Alpha_Plus  \n",
       "Precisao       0.000000    1.000000  \n",
       "Generalizacao  0.877309    0.882187  \n",
       "Simplicidade   0.194079    0.091006  "
      ]
     },
     "execution_count": 3,
     "metadata": {},
     "output_type": "execute_result"
    }
   ],
   "source": [
    "pd.DataFrame(results)"
   ]
  },
  {
   "cell_type": "code",
   "execution_count": 4,
   "metadata": {},
   "outputs": [
    {
     "data": {
      "text/plain": [
       "(array([0, 1, 2]),\n",
       " [Text(0, 0, 'Precisao'),\n",
       "  Text(1, 0, 'Generalizacao'),\n",
       "  Text(2, 0, 'Simplicidade')])"
      ]
     },
     "execution_count": 4,
     "metadata": {},
     "output_type": "execute_result"
    },
    {
     "data": {
      "image/png": "[encoded data removed]",
      "text/plain": [
       "<Figure size 640x480 with 1 Axes>"
      ]
     },
     "metadata": {},
     "output_type": "display_data"
    }
   ],
   "source": [
    "pd.DataFrame(results).plot(kind='bar')\n",
    "plt.title(\"oOmparação entre as Métricas de Qualidade de cada modelo\",fontdict = {'fontweight':'bold'})\n",
    "plt.ylabel(\"Valor da Métrica\",fontdict = {'fontweight':'bold'})\n",
    "plt.xlabel(\"Métrica\",fontdict = {'fontweight':'bold'})\n",
    "plt.xticks(rotation=0)"
   ]
  },
  {
   "attachments": {},
   "cell_type": "markdown",
   "metadata": {},
   "source": [
    "# Concept Drift"
   ]
  },
  {
   "cell_type": "code",
   "execution_count": 5,
   "metadata": {},
   "outputs": [
    {
     "name": "stderr",
     "output_type": "stream",
     "text": [
      "parsing log, completed traces :: 100%|██████████| 2099/2099 [00:00<00:00, 5187.84it/s]\n",
      "/Users/yamada/miniforge3/envs/.env_mineracao/lib/python3.11/site-packages/pm4py/objects/log/util/dataframe_utils.py:176: UserWarning: Could not infer format, so each element will be parsed individually, falling back to `dateutil`. To ensure parsing is consistent and as-expected, please specify a format.\n",
      "  df[col] = pd.to_datetime(df[col], utc=True)\n",
      "/Users/yamada/miniforge3/envs/.env_mineracao/lib/python3.11/site-packages/pm4py/objects/log/util/dataframe_utils.py:176: UserWarning: Could not infer format, so each element will be parsed individually, falling back to `dateutil`. To ensure parsing is consistent and as-expected, please specify a format.\n",
      "  df[col] = pd.to_datetime(df[col], utc=True)\n",
      "/Users/yamada/miniforge3/envs/.env_mineracao/lib/python3.11/site-packages/pm4py/objects/log/util/dataframe_utils.py:176: UserWarning: Could not infer format, so each element will be parsed individually, falling back to `dateutil`. To ensure parsing is consistent and as-expected, please specify a format.\n",
      "  df[col] = pd.to_datetime(df[col], utc=True)\n",
      "/Users/yamada/miniforge3/envs/.env_mineracao/lib/python3.11/site-packages/pm4py/objects/log/util/dataframe_utils.py:176: UserWarning: Could not infer format, so each element will be parsed individually, falling back to `dateutil`. To ensure parsing is consistent and as-expected, please specify a format.\n",
      "  df[col] = pd.to_datetime(df[col], utc=True)\n",
      "/Users/yamada/miniforge3/envs/.env_mineracao/lib/python3.11/site-packages/pm4py/objects/log/util/dataframe_utils.py:176: UserWarning: Could not infer format, so each element will be parsed individually, falling back to `dateutil`. To ensure parsing is consistent and as-expected, please specify a format.\n",
      "  df[col] = pd.to_datetime(df[col], utc=True)\n",
      "/Users/yamada/miniforge3/envs/.env_mineracao/lib/python3.11/site-packages/pm4py/objects/log/util/dataframe_utils.py:176: UserWarning: Could not infer format, so each element will be parsed individually, falling back to `dateutil`. To ensure parsing is consistent and as-expected, please specify a format.\n",
      "  df[col] = pd.to_datetime(df[col], utc=True)\n",
      "/Users/yamada/miniforge3/envs/.env_mineracao/lib/python3.11/site-packages/pm4py/objects/log/util/dataframe_utils.py:176: UserWarning: Could not infer format, so each element will be parsed individually, falling back to `dateutil`. To ensure parsing is consistent and as-expected, please specify a format.\n",
      "  df[col] = pd.to_datetime(df[col], utc=True)\n",
      "/Users/yamada/miniforge3/envs/.env_mineracao/lib/python3.11/site-packages/pm4py/objects/log/util/dataframe_utils.py:176: UserWarning: Could not infer format, so each element will be parsed individually, falling back to `dateutil`. To ensure parsing is consistent and as-expected, please specify a format.\n",
      "  df[col] = pd.to_datetime(df[col], utc=True)\n",
      "/Users/yamada/miniforge3/envs/.env_mineracao/lib/python3.11/site-packages/pm4py/objects/log/util/dataframe_utils.py:176: UserWarning: Could not infer format, so each element will be parsed individually, falling back to `dateutil`. To ensure parsing is consistent and as-expected, please specify a format.\n",
      "  df[col] = pd.to_datetime(df[col], utc=True)\n",
      "/Users/yamada/miniforge3/envs/.env_mineracao/lib/python3.11/site-packages/pm4py/objects/log/util/dataframe_utils.py:176: UserWarning: Could not infer format, so each element will be parsed individually, falling back to `dateutil`. To ensure parsing is consistent and as-expected, please specify a format.\n",
      "  df[col] = pd.to_datetime(df[col], utc=True)\n",
      "/Users/yamada/miniforge3/envs/.env_mineracao/lib/python3.11/site-packages/pm4py/objects/log/util/dataframe_utils.py:176: UserWarning: Could not infer format, so each element will be parsed individually, falling back to `dateutil`. To ensure parsing is consistent and as-expected, please specify a format.\n",
      "  df[col] = pd.to_datetime(df[col], utc=True)\n",
      "/Users/yamada/miniforge3/envs/.env_mineracao/lib/python3.11/site-packages/pm4py/objects/log/util/dataframe_utils.py:176: UserWarning: Could not infer format, so each element will be parsed individually, falling back to `dateutil`. To ensure parsing is consistent and as-expected, please specify a format.\n",
      "  df[col] = pd.to_datetime(df[col], utc=True)\n",
      "/Users/yamada/miniforge3/envs/.env_mineracao/lib/python3.11/site-packages/pm4py/objects/log/util/dataframe_utils.py:176: UserWarning: Could not infer format, so each element will be parsed individually, falling back to `dateutil`. To ensure parsing is consistent and as-expected, please specify a format.\n",
      "  df[col] = pd.to_datetime(df[col], utc=True)\n",
      "/Users/yamada/miniforge3/envs/.env_mineracao/lib/python3.11/site-packages/pm4py/objects/log/util/dataframe_utils.py:176: UserWarning: Could not infer format, so each element will be parsed individually, falling back to `dateutil`. To ensure parsing is consistent and as-expected, please specify a format.\n",
      "  df[col] = pd.to_datetime(df[col], utc=True)\n",
      "/Users/yamada/miniforge3/envs/.env_mineracao/lib/python3.11/site-packages/pm4py/objects/log/util/dataframe_utils.py:176: UserWarning: Could not infer format, so each element will be parsed individually, falling back to `dateutil`. To ensure parsing is consistent and as-expected, please specify a format.\n",
      "  df[col] = pd.to_datetime(df[col], utc=True)\n",
      "/Users/yamada/miniforge3/envs/.env_mineracao/lib/python3.11/site-packages/pm4py/objects/log/util/dataframe_utils.py:176: UserWarning: Could not infer format, so each element will be parsed individually, falling back to `dateutil`. To ensure parsing is consistent and as-expected, please specify a format.\n",
      "  df[col] = pd.to_datetime(df[col], utc=True)\n",
      "/Users/yamada/miniforge3/envs/.env_mineracao/lib/python3.11/site-packages/pm4py/objects/log/util/dataframe_utils.py:176: UserWarning: Could not infer format, so each element will be parsed individually, falling back to `dateutil`. To ensure parsing is consistent and as-expected, please specify a format.\n",
      "  df[col] = pd.to_datetime(df[col], utc=True)\n",
      "/Users/yamada/miniforge3/envs/.env_mineracao/lib/python3.11/site-packages/pm4py/objects/log/util/dataframe_utils.py:176: UserWarning: Could not infer format, so each element will be parsed individually, falling back to `dateutil`. To ensure parsing is consistent and as-expected, please specify a format.\n",
      "  df[col] = pd.to_datetime(df[col], utc=True)\n",
      "replaying log with TBR, completed variants :: 100%|██████████| 903/903 [00:01<00:00, 545.86it/s]\n"
     ]
    },
    {
     "name": "stdout",
     "output_type": "stream",
     "text": [
      "Precision - Token replay: 0.18804590892897766\n"
     ]
    },
    {
     "name": "stderr",
     "output_type": "stream",
     "text": [
      "replaying log with TBR, completed variants :: 100%|██████████| 202/202 [00:00<00:00, 513.36it/s]\n"
     ]
    },
    {
     "name": "stdout",
     "output_type": "stream",
     "text": [
      "Generalization: 0.8760102515399909\n",
      "Simplicity: 0.6158940397350994\n"
     ]
    },
    {
     "name": "stderr",
     "output_type": "stream",
     "text": [
      "replaying log with TBR, completed variants :: 100%|██████████| 202/202 [00:00<00:00, 510.96it/s]\n",
      "/Users/yamada/miniforge3/envs/.env_mineracao/lib/python3.11/site-packages/pm4py/algo/discovery/dfg/adapters/pandas/df_statistics.py:73: SettingWithCopyWarning: \n",
      "A value is trying to be set on a copy of a slice from a DataFrame.\n",
      "Try using .loc[row_indexer,col_indexer] = value instead\n",
      "\n",
      "See the caveats in the documentation: https://pandas.pydata.org/pandas-docs/stable/user_guide/indexing.html#returning-a-view-versus-a-copy\n",
      "  df[start_timestamp_key] = df[timestamp_key]\n",
      "/Users/yamada/miniforge3/envs/.env_mineracao/lib/python3.11/site-packages/pm4py/algo/discovery/dfg/adapters/pandas/df_statistics.py:73: SettingWithCopyWarning: \n",
      "A value is trying to be set on a copy of a slice from a DataFrame.\n",
      "Try using .loc[row_indexer,col_indexer] = value instead\n",
      "\n",
      "See the caveats in the documentation: https://pandas.pydata.org/pandas-docs/stable/user_guide/indexing.html#returning-a-view-versus-a-copy\n",
      "  df[start_timestamp_key] = df[timestamp_key]\n",
      "/Users/yamada/miniforge3/envs/.env_mineracao/lib/python3.11/site-packages/pm4py/algo/discovery/dfg/adapters/pandas/df_statistics.py:73: SettingWithCopyWarning: \n",
      "A value is trying to be set on a copy of a slice from a DataFrame.\n",
      "Try using .loc[row_indexer,col_indexer] = value instead\n",
      "\n",
      "See the caveats in the documentation: https://pandas.pydata.org/pandas-docs/stable/user_guide/indexing.html#returning-a-view-versus-a-copy\n",
      "  df[start_timestamp_key] = df[timestamp_key]\n",
      "/Users/yamada/miniforge3/envs/.env_mineracao/lib/python3.11/site-packages/pm4py/algo/discovery/dfg/adapters/pandas/df_statistics.py:73: SettingWithCopyWarning: \n",
      "A value is trying to be set on a copy of a slice from a DataFrame.\n",
      "Try using .loc[row_indexer,col_indexer] = value instead\n",
      "\n",
      "See the caveats in the documentation: https://pandas.pydata.org/pandas-docs/stable/user_guide/indexing.html#returning-a-view-versus-a-copy\n",
      "  df[start_timestamp_key] = df[timestamp_key]\n",
      "replaying log with TBR, completed variants :: 100%|██████████| 903/903 [00:00<00:00, 6636.78it/s]\n"
     ]
    },
    {
     "name": "stdout",
     "output_type": "stream",
     "text": [
      "Precision - Token replay: 0.9251116931135418\n"
     ]
    },
    {
     "name": "stderr",
     "output_type": "stream",
     "text": [
      "replaying log with TBR, completed variants :: 100%|██████████| 202/202 [00:00<00:00, 2002.60it/s]\n"
     ]
    },
    {
     "name": "stdout",
     "output_type": "stream",
     "text": [
      "Generalization: 0.7198388912446105\n",
      "Simplicity: 0.5571428571428572\n"
     ]
    },
    {
     "name": "stderr",
     "output_type": "stream",
     "text": [
      "replaying log with TBR, completed variants :: 100%|██████████| 202/202 [00:00<00:00, 1480.44it/s]\n",
      "/Users/yamada/miniforge3/envs/.env_mineracao/lib/python3.11/site-packages/pm4py/algo/discovery/dfg/adapters/pandas/df_statistics.py:73: SettingWithCopyWarning: \n",
      "A value is trying to be set on a copy of a slice from a DataFrame.\n",
      "Try using .loc[row_indexer,col_indexer] = value instead\n",
      "\n",
      "See the caveats in the documentation: https://pandas.pydata.org/pandas-docs/stable/user_guide/indexing.html#returning-a-view-versus-a-copy\n",
      "  df[start_timestamp_key] = df[timestamp_key]\n",
      "/Users/yamada/miniforge3/envs/.env_mineracao/lib/python3.11/site-packages/pm4py/algo/discovery/dfg/adapters/pandas/df_statistics.py:73: SettingWithCopyWarning: \n",
      "A value is trying to be set on a copy of a slice from a DataFrame.\n",
      "Try using .loc[row_indexer,col_indexer] = value instead\n",
      "\n",
      "See the caveats in the documentation: https://pandas.pydata.org/pandas-docs/stable/user_guide/indexing.html#returning-a-view-versus-a-copy\n",
      "  df[start_timestamp_key] = df[timestamp_key]\n",
      "/Users/yamada/miniforge3/envs/.env_mineracao/lib/python3.11/site-packages/pm4py/algo/discovery/dfg/adapters/pandas/df_statistics.py:73: SettingWithCopyWarning: \n",
      "A value is trying to be set on a copy of a slice from a DataFrame.\n",
      "Try using .loc[row_indexer,col_indexer] = value instead\n",
      "\n",
      "See the caveats in the documentation: https://pandas.pydata.org/pandas-docs/stable/user_guide/indexing.html#returning-a-view-versus-a-copy\n",
      "  df[start_timestamp_key] = df[timestamp_key]\n",
      "/Users/yamada/miniforge3/envs/.env_mineracao/lib/python3.11/site-packages/pm4py/algo/discovery/dfg/adapters/pandas/df_statistics.py:73: SettingWithCopyWarning: \n",
      "A value is trying to be set on a copy of a slice from a DataFrame.\n",
      "Try using .loc[row_indexer,col_indexer] = value instead\n",
      "\n",
      "See the caveats in the documentation: https://pandas.pydata.org/pandas-docs/stable/user_guide/indexing.html#returning-a-view-versus-a-copy\n",
      "  df[start_timestamp_key] = df[timestamp_key]\n",
      "replaying log with TBR, completed variants :: 100%|██████████| 903/903 [00:00<00:00, 8961.36it/s]\n"
     ]
    },
    {
     "name": "stdout",
     "output_type": "stream",
     "text": [
      "Precision - Token replay: 0.8586442829935812\n"
     ]
    },
    {
     "name": "stderr",
     "output_type": "stream",
     "text": [
      "replaying log with TBR, completed variants :: 100%|██████████| 202/202 [00:00<00:00, 3659.02it/s]\n"
     ]
    },
    {
     "name": "stdout",
     "output_type": "stream",
     "text": [
      "Generalization: 0.8803339560499243\n",
      "Simplicity: 0.7499999999999999\n"
     ]
    },
    {
     "name": "stderr",
     "output_type": "stream",
     "text": [
      "replaying log with TBR, completed variants :: 100%|██████████| 202/202 [00:00<00:00, 3651.17it/s]\n",
      "/Users/yamada/miniforge3/envs/.env_mineracao/lib/python3.11/site-packages/pm4py/algo/discovery/dfg/adapters/pandas/df_statistics.py:73: SettingWithCopyWarning: \n",
      "A value is trying to be set on a copy of a slice from a DataFrame.\n",
      "Try using .loc[row_indexer,col_indexer] = value instead\n",
      "\n",
      "See the caveats in the documentation: https://pandas.pydata.org/pandas-docs/stable/user_guide/indexing.html#returning-a-view-versus-a-copy\n",
      "  df[start_timestamp_key] = df[timestamp_key]\n",
      "replaying log with TBR, completed variants :: 100%|██████████| 903/903 [00:00<00:00, 22678.29it/s]\n"
     ]
    },
    {
     "name": "stdout",
     "output_type": "stream",
     "text": [
      "Precision - Token replay: 1.0\n"
     ]
    },
    {
     "name": "stderr",
     "output_type": "stream",
     "text": [
      "replaying log with TBR, completed variants :: 100%|██████████| 202/202 [00:00<00:00, 2124.26it/s]\n"
     ]
    },
    {
     "name": "stdout",
     "output_type": "stream",
     "text": [
      "Generalization: 0.8816064094801453\n",
      "Simplicity: 0.33766233766233766\n"
     ]
    },
    {
     "name": "stderr",
     "output_type": "stream",
     "text": [
      "replaying log with TBR, completed variants :: 100%|██████████| 202/202 [00:00<00:00, 2119.16it/s]\n",
      "replaying log with TBR, completed variants :: 100%|██████████| 903/903 [00:00<00:00, 4707.37it/s]\n"
     ]
    },
    {
     "name": "stdout",
     "output_type": "stream",
     "text": [
      "Precision - Token replay: 0.831336982017201\n"
     ]
    },
    {
     "name": "stderr",
     "output_type": "stream",
     "text": [
      "replaying log with TBR, completed variants :: 100%|██████████| 202/202 [00:00<00:00, 1482.16it/s]"
     ]
    },
    {
     "name": "stdout",
     "output_type": "stream",
     "text": [
      "Generalization: 0.8883770749897026\n",
      "Simplicity: 0.18493150684931506\n"
     ]
    },
    {
     "name": "stderr",
     "output_type": "stream",
     "text": [
      "\n",
      "replaying log with TBR, completed variants :: 100%|██████████| 202/202 [00:00<00:00, 1479.01it/s]\n",
      "replaying log with TBR, completed variants :: 100%|██████████| 903/903 [00:01<00:00, 844.36it/s]\n"
     ]
    },
    {
     "name": "stdout",
     "output_type": "stream",
     "text": [
      "Precision - Token replay: 0.2384421228268222\n"
     ]
    },
    {
     "name": "stderr",
     "output_type": "stream",
     "text": [
      "replaying log with TBR, completed variants :: 100%|██████████| 202/202 [00:00<00:00, 1176.48it/s]"
     ]
    },
    {
     "name": "stdout",
     "output_type": "stream",
     "text": [
      "Generalization: 0.9004445104401956\n",
      "Simplicity: 0.5555555555555556\n"
     ]
    },
    {
     "name": "stderr",
     "output_type": "stream",
     "text": [
      "\n",
      "replaying log with TBR, completed variants :: 100%|██████████| 202/202 [00:00<00:00, 1514.57it/s]\n",
      "/Users/yamada/miniforge3/envs/.env_mineracao/lib/python3.11/site-packages/pm4py/algo/discovery/dfg/adapters/pandas/df_statistics.py:73: SettingWithCopyWarning: \n",
      "A value is trying to be set on a copy of a slice from a DataFrame.\n",
      "Try using .loc[row_indexer,col_indexer] = value instead\n",
      "\n",
      "See the caveats in the documentation: https://pandas.pydata.org/pandas-docs/stable/user_guide/indexing.html#returning-a-view-versus-a-copy\n",
      "  df[start_timestamp_key] = df[timestamp_key]\n",
      "/Users/yamada/miniforge3/envs/.env_mineracao/lib/python3.11/site-packages/pm4py/algo/discovery/dfg/adapters/pandas/df_statistics.py:73: SettingWithCopyWarning: \n",
      "A value is trying to be set on a copy of a slice from a DataFrame.\n",
      "Try using .loc[row_indexer,col_indexer] = value instead\n",
      "\n",
      "See the caveats in the documentation: https://pandas.pydata.org/pandas-docs/stable/user_guide/indexing.html#returning-a-view-versus-a-copy\n",
      "  df[start_timestamp_key] = df[timestamp_key]\n",
      "/Users/yamada/miniforge3/envs/.env_mineracao/lib/python3.11/site-packages/pm4py/algo/discovery/dfg/adapters/pandas/df_statistics.py:73: SettingWithCopyWarning: \n",
      "A value is trying to be set on a copy of a slice from a DataFrame.\n",
      "Try using .loc[row_indexer,col_indexer] = value instead\n",
      "\n",
      "See the caveats in the documentation: https://pandas.pydata.org/pandas-docs/stable/user_guide/indexing.html#returning-a-view-versus-a-copy\n",
      "  df[start_timestamp_key] = df[timestamp_key]\n",
      "/Users/yamada/miniforge3/envs/.env_mineracao/lib/python3.11/site-packages/pm4py/algo/discovery/dfg/adapters/pandas/df_statistics.py:73: SettingWithCopyWarning: \n",
      "A value is trying to be set on a copy of a slice from a DataFrame.\n",
      "Try using .loc[row_indexer,col_indexer] = value instead\n",
      "\n",
      "See the caveats in the documentation: https://pandas.pydata.org/pandas-docs/stable/user_guide/indexing.html#returning-a-view-versus-a-copy\n",
      "  df[start_timestamp_key] = df[timestamp_key]\n",
      "replaying log with TBR, completed variants :: 100%|██████████| 903/903 [00:00<00:00, 2458.91it/s]\n"
     ]
    },
    {
     "name": "stdout",
     "output_type": "stream",
     "text": [
      "Precision - Token replay: 0.7103538542367569\n"
     ]
    },
    {
     "name": "stderr",
     "output_type": "stream",
     "text": [
      "replaying log with TBR, completed variants :: 100%|██████████| 202/202 [00:00<00:00, 1254.47it/s]"
     ]
    },
    {
     "name": "stdout",
     "output_type": "stream",
     "text": [
      "Generalization: 0.6564249115730509\n",
      "Simplicity: 0.539906103286385\n"
     ]
    },
    {
     "name": "stderr",
     "output_type": "stream",
     "text": [
      "\n",
      "replaying log with TBR, completed variants :: 100%|██████████| 202/202 [00:00<00:00, 1256.88it/s]\n",
      "/Users/yamada/miniforge3/envs/.env_mineracao/lib/python3.11/site-packages/pm4py/algo/discovery/dfg/adapters/pandas/df_statistics.py:73: SettingWithCopyWarning: \n",
      "A value is trying to be set on a copy of a slice from a DataFrame.\n",
      "Try using .loc[row_indexer,col_indexer] = value instead\n",
      "\n",
      "See the caveats in the documentation: https://pandas.pydata.org/pandas-docs/stable/user_guide/indexing.html#returning-a-view-versus-a-copy\n",
      "  df[start_timestamp_key] = df[timestamp_key]\n",
      "/Users/yamada/miniforge3/envs/.env_mineracao/lib/python3.11/site-packages/pm4py/algo/discovery/dfg/adapters/pandas/df_statistics.py:73: SettingWithCopyWarning: \n",
      "A value is trying to be set on a copy of a slice from a DataFrame.\n",
      "Try using .loc[row_indexer,col_indexer] = value instead\n",
      "\n",
      "See the caveats in the documentation: https://pandas.pydata.org/pandas-docs/stable/user_guide/indexing.html#returning-a-view-versus-a-copy\n",
      "  df[start_timestamp_key] = df[timestamp_key]\n",
      "/Users/yamada/miniforge3/envs/.env_mineracao/lib/python3.11/site-packages/pm4py/algo/discovery/dfg/adapters/pandas/df_statistics.py:73: SettingWithCopyWarning: \n",
      "A value is trying to be set on a copy of a slice from a DataFrame.\n",
      "Try using .loc[row_indexer,col_indexer] = value instead\n",
      "\n",
      "See the caveats in the documentation: https://pandas.pydata.org/pandas-docs/stable/user_guide/indexing.html#returning-a-view-versus-a-copy\n",
      "  df[start_timestamp_key] = df[timestamp_key]\n",
      "/Users/yamada/miniforge3/envs/.env_mineracao/lib/python3.11/site-packages/pm4py/algo/discovery/dfg/adapters/pandas/df_statistics.py:73: SettingWithCopyWarning: \n",
      "A value is trying to be set on a copy of a slice from a DataFrame.\n",
      "Try using .loc[row_indexer,col_indexer] = value instead\n",
      "\n",
      "See the caveats in the documentation: https://pandas.pydata.org/pandas-docs/stable/user_guide/indexing.html#returning-a-view-versus-a-copy\n",
      "  df[start_timestamp_key] = df[timestamp_key]\n",
      "replaying log with TBR, completed variants :: 100%|██████████| 903/903 [00:00<00:00, 5945.21it/s]\n"
     ]
    },
    {
     "name": "stdout",
     "output_type": "stream",
     "text": [
      "Precision - Token replay: 0.712325878678457\n"
     ]
    },
    {
     "name": "stderr",
     "output_type": "stream",
     "text": [
      "replaying log with TBR, completed variants :: 100%|██████████| 202/202 [00:00<00:00, 2814.31it/s]\n"
     ]
    },
    {
     "name": "stdout",
     "output_type": "stream",
     "text": [
      "Generalization: 0.8446375241386659\n",
      "Simplicity: 0.6571428571428571\n"
     ]
    },
    {
     "name": "stderr",
     "output_type": "stream",
     "text": [
      "replaying log with TBR, completed variants :: 100%|██████████| 202/202 [00:00<00:00, 2819.78it/s]\n",
      "/Users/yamada/miniforge3/envs/.env_mineracao/lib/python3.11/site-packages/pm4py/algo/discovery/dfg/adapters/pandas/df_statistics.py:73: SettingWithCopyWarning: \n",
      "A value is trying to be set on a copy of a slice from a DataFrame.\n",
      "Try using .loc[row_indexer,col_indexer] = value instead\n",
      "\n",
      "See the caveats in the documentation: https://pandas.pydata.org/pandas-docs/stable/user_guide/indexing.html#returning-a-view-versus-a-copy\n",
      "  df[start_timestamp_key] = df[timestamp_key]\n",
      "replaying log with TBR, completed variants :: 100%|██████████| 903/903 [00:00<00:00, 19582.32it/s]\n"
     ]
    },
    {
     "name": "stdout",
     "output_type": "stream",
     "text": [
      "Precision - Token replay: 0.0\n"
     ]
    },
    {
     "name": "stderr",
     "output_type": "stream",
     "text": [
      "replaying log with TBR, completed variants :: 100%|██████████| 202/202 [00:00<00:00, 1290.74it/s]\n"
     ]
    },
    {
     "name": "stdout",
     "output_type": "stream",
     "text": [
      "Generalization: 0.897078911772131\n",
      "Simplicity: 0.21951219512195122\n"
     ]
    },
    {
     "name": "stderr",
     "output_type": "stream",
     "text": [
      "replaying log with TBR, completed variants :: 100%|██████████| 202/202 [00:00<00:00, 1289.74it/s]\n",
      "replaying log with TBR, completed variants :: 100%|██████████| 903/903 [00:00<00:00, 1526.91it/s]\n"
     ]
    },
    {
     "name": "stdout",
     "output_type": "stream",
     "text": [
      "Precision - Token replay: 1.0\n"
     ]
    },
    {
     "name": "stderr",
     "output_type": "stream",
     "text": [
      "replaying log with TBR, completed variants :: 100%|██████████| 202/202 [00:00<00:00, 410.15it/s]\n"
     ]
    },
    {
     "name": "stdout",
     "output_type": "stream",
     "text": [
      "Generalization: 0.9027003889338185\n",
      "Simplicity: 0.09173715029277814\n"
     ]
    },
    {
     "name": "stderr",
     "output_type": "stream",
     "text": [
      "replaying log with TBR, completed variants :: 100%|██████████| 202/202 [00:00<00:00, 411.33it/s]\n",
      "replaying log with TBR, completed variants :: 100%|██████████| 165/165 [00:00<00:00, 866.21it/s]\n"
     ]
    },
    {
     "name": "stdout",
     "output_type": "stream",
     "text": [
      "Precision - Token replay: 0.18886194164917103\n"
     ]
    },
    {
     "name": "stderr",
     "output_type": "stream",
     "text": [
      "replaying log with TBR, completed variants :: 100%|██████████| 51/51 [00:00<00:00, 1894.65it/s]\n"
     ]
    },
    {
     "name": "stdout",
     "output_type": "stream",
     "text": [
      "Generalization: 0.6925793470422774\n",
      "Simplicity: 0.5555555555555556\n"
     ]
    },
    {
     "name": "stderr",
     "output_type": "stream",
     "text": [
      "replaying log with TBR, completed variants :: 100%|██████████| 51/51 [00:00<00:00, 1895.13it/s]\n",
      "/Users/yamada/miniforge3/envs/.env_mineracao/lib/python3.11/site-packages/pm4py/algo/discovery/dfg/adapters/pandas/df_statistics.py:73: SettingWithCopyWarning: \n",
      "A value is trying to be set on a copy of a slice from a DataFrame.\n",
      "Try using .loc[row_indexer,col_indexer] = value instead\n",
      "\n",
      "See the caveats in the documentation: https://pandas.pydata.org/pandas-docs/stable/user_guide/indexing.html#returning-a-view-versus-a-copy\n",
      "  df[start_timestamp_key] = df[timestamp_key]\n",
      "/Users/yamada/miniforge3/envs/.env_mineracao/lib/python3.11/site-packages/pm4py/algo/discovery/dfg/adapters/pandas/df_statistics.py:73: SettingWithCopyWarning: \n",
      "A value is trying to be set on a copy of a slice from a DataFrame.\n",
      "Try using .loc[row_indexer,col_indexer] = value instead\n",
      "\n",
      "See the caveats in the documentation: https://pandas.pydata.org/pandas-docs/stable/user_guide/indexing.html#returning-a-view-versus-a-copy\n",
      "  df[start_timestamp_key] = df[timestamp_key]\n",
      "/Users/yamada/miniforge3/envs/.env_mineracao/lib/python3.11/site-packages/pm4py/algo/discovery/dfg/adapters/pandas/df_statistics.py:73: SettingWithCopyWarning: \n",
      "A value is trying to be set on a copy of a slice from a DataFrame.\n",
      "Try using .loc[row_indexer,col_indexer] = value instead\n",
      "\n",
      "See the caveats in the documentation: https://pandas.pydata.org/pandas-docs/stable/user_guide/indexing.html#returning-a-view-versus-a-copy\n",
      "  df[start_timestamp_key] = df[timestamp_key]\n",
      "/Users/yamada/miniforge3/envs/.env_mineracao/lib/python3.11/site-packages/pm4py/algo/discovery/dfg/adapters/pandas/df_statistics.py:73: SettingWithCopyWarning: \n",
      "A value is trying to be set on a copy of a slice from a DataFrame.\n",
      "Try using .loc[row_indexer,col_indexer] = value instead\n",
      "\n",
      "See the caveats in the documentation: https://pandas.pydata.org/pandas-docs/stable/user_guide/indexing.html#returning-a-view-versus-a-copy\n",
      "  df[start_timestamp_key] = df[timestamp_key]\n",
      "replaying log with TBR, completed variants :: 100%|██████████| 165/165 [00:00<00:00, 5994.98it/s]\n"
     ]
    },
    {
     "name": "stdout",
     "output_type": "stream",
     "text": [
      "Precision - Token replay: 0.6808245445829338\n"
     ]
    },
    {
     "name": "stderr",
     "output_type": "stream",
     "text": [
      "replaying log with TBR, completed variants :: 100%|██████████| 51/51 [00:00<00:00, 2066.10it/s]\n"
     ]
    },
    {
     "name": "stdout",
     "output_type": "stream",
     "text": [
      "Generalization: 0.31039066545322314\n",
      "Simplicity: 0.539906103286385\n"
     ]
    },
    {
     "name": "stderr",
     "output_type": "stream",
     "text": [
      "replaying log with TBR, completed variants :: 100%|██████████| 51/51 [00:00<00:00, 2053.88it/s]\n",
      "/Users/yamada/miniforge3/envs/.env_mineracao/lib/python3.11/site-packages/pm4py/algo/discovery/dfg/adapters/pandas/df_statistics.py:73: SettingWithCopyWarning: \n",
      "A value is trying to be set on a copy of a slice from a DataFrame.\n",
      "Try using .loc[row_indexer,col_indexer] = value instead\n",
      "\n",
      "See the caveats in the documentation: https://pandas.pydata.org/pandas-docs/stable/user_guide/indexing.html#returning-a-view-versus-a-copy\n",
      "  df[start_timestamp_key] = df[timestamp_key]\n",
      "/Users/yamada/miniforge3/envs/.env_mineracao/lib/python3.11/site-packages/pm4py/algo/discovery/dfg/adapters/pandas/df_statistics.py:73: SettingWithCopyWarning: \n",
      "A value is trying to be set on a copy of a slice from a DataFrame.\n",
      "Try using .loc[row_indexer,col_indexer] = value instead\n",
      "\n",
      "See the caveats in the documentation: https://pandas.pydata.org/pandas-docs/stable/user_guide/indexing.html#returning-a-view-versus-a-copy\n",
      "  df[start_timestamp_key] = df[timestamp_key]\n",
      "/Users/yamada/miniforge3/envs/.env_mineracao/lib/python3.11/site-packages/pm4py/algo/discovery/dfg/adapters/pandas/df_statistics.py:73: SettingWithCopyWarning: \n",
      "A value is trying to be set on a copy of a slice from a DataFrame.\n",
      "Try using .loc[row_indexer,col_indexer] = value instead\n",
      "\n",
      "See the caveats in the documentation: https://pandas.pydata.org/pandas-docs/stable/user_guide/indexing.html#returning-a-view-versus-a-copy\n",
      "  df[start_timestamp_key] = df[timestamp_key]\n",
      "/Users/yamada/miniforge3/envs/.env_mineracao/lib/python3.11/site-packages/pm4py/algo/discovery/dfg/adapters/pandas/df_statistics.py:73: SettingWithCopyWarning: \n",
      "A value is trying to be set on a copy of a slice from a DataFrame.\n",
      "Try using .loc[row_indexer,col_indexer] = value instead\n",
      "\n",
      "See the caveats in the documentation: https://pandas.pydata.org/pandas-docs/stable/user_guide/indexing.html#returning-a-view-versus-a-copy\n",
      "  df[start_timestamp_key] = df[timestamp_key]\n",
      "replaying log with TBR, completed variants :: 100%|██████████| 165/165 [00:00<00:00, 11235.11it/s]\n"
     ]
    },
    {
     "name": "stdout",
     "output_type": "stream",
     "text": [
      "Precision - Token replay: 0.6200392927308448\n"
     ]
    },
    {
     "name": "stderr",
     "output_type": "stream",
     "text": [
      "replaying log with TBR, completed variants :: 100%|██████████| 51/51 [00:00<00:00, 3441.49it/s]\n"
     ]
    },
    {
     "name": "stdout",
     "output_type": "stream",
     "text": [
      "Generalization: 0.516981644249293\n",
      "Simplicity: 0.6571428571428571\n"
     ]
    },
    {
     "name": "stderr",
     "output_type": "stream",
     "text": [
      "replaying log with TBR, completed variants :: 100%|██████████| 51/51 [00:00<00:00, 3424.69it/s]\n",
      "/Users/yamada/miniforge3/envs/.env_mineracao/lib/python3.11/site-packages/pm4py/algo/discovery/dfg/adapters/pandas/df_statistics.py:73: SettingWithCopyWarning: \n",
      "A value is trying to be set on a copy of a slice from a DataFrame.\n",
      "Try using .loc[row_indexer,col_indexer] = value instead\n",
      "\n",
      "See the caveats in the documentation: https://pandas.pydata.org/pandas-docs/stable/user_guide/indexing.html#returning-a-view-versus-a-copy\n",
      "  df[start_timestamp_key] = df[timestamp_key]\n",
      "replaying log with TBR, completed variants :: 100%|██████████| 165/165 [00:00<00:00, 17227.00it/s]\n"
     ]
    },
    {
     "name": "stdout",
     "output_type": "stream",
     "text": [
      "Precision - Token replay: 0.0\n"
     ]
    },
    {
     "name": "stderr",
     "output_type": "stream",
     "text": [
      "replaying log with TBR, completed variants :: 100%|██████████| 51/51 [00:00<00:00, 1818.05it/s]\n"
     ]
    },
    {
     "name": "stdout",
     "output_type": "stream",
     "text": [
      "Generalization: 0.5179600850097081\n",
      "Simplicity: 0.21951219512195122\n"
     ]
    },
    {
     "name": "stderr",
     "output_type": "stream",
     "text": [
      "replaying log with TBR, completed variants :: 100%|██████████| 51/51 [00:00<00:00, 1760.63it/s]\n",
      "replaying log with TBR, completed variants :: 100%|██████████| 165/165 [00:00<00:00, 1580.35it/s]\n"
     ]
    },
    {
     "name": "stdout",
     "output_type": "stream",
     "text": [
      "Precision - Token replay: 1.0\n"
     ]
    },
    {
     "name": "stderr",
     "output_type": "stream",
     "text": [
      "replaying log with TBR, completed variants :: 100%|██████████| 51/51 [00:00<00:00, 492.24it/s]\n"
     ]
    },
    {
     "name": "stdout",
     "output_type": "stream",
     "text": [
      "Generalization: 0.5488543081331146\n",
      "Simplicity: 0.09173715029277814\n"
     ]
    },
    {
     "name": "stderr",
     "output_type": "stream",
     "text": [
      "replaying log with TBR, completed variants :: 100%|██████████| 51/51 [00:00<00:00, 491.74it/s]\n",
      "replaying log with TBR, completed variants :: 100%|██████████| 710/710 [00:01<00:00, 546.86it/s]\n"
     ]
    },
    {
     "name": "stdout",
     "output_type": "stream",
     "text": [
      "Precision - Token replay: 0.1661140920154407\n"
     ]
    },
    {
     "name": "stderr",
     "output_type": "stream",
     "text": [
      "replaying log with TBR, completed variants :: 100%|██████████| 151/151 [00:00<00:00, 410.28it/s]\n"
     ]
    },
    {
     "name": "stdout",
     "output_type": "stream",
     "text": [
      "Generalization: 0.7097741225169765\n",
      "Simplicity: 0.6158940397350994\n"
     ]
    },
    {
     "name": "stderr",
     "output_type": "stream",
     "text": [
      "replaying log with TBR, completed variants :: 100%|██████████| 151/151 [00:00<00:00, 364.93it/s]\n",
      "/Users/yamada/miniforge3/envs/.env_mineracao/lib/python3.11/site-packages/pm4py/algo/discovery/dfg/adapters/pandas/df_statistics.py:73: SettingWithCopyWarning: \n",
      "A value is trying to be set on a copy of a slice from a DataFrame.\n",
      "Try using .loc[row_indexer,col_indexer] = value instead\n",
      "\n",
      "See the caveats in the documentation: https://pandas.pydata.org/pandas-docs/stable/user_guide/indexing.html#returning-a-view-versus-a-copy\n",
      "  df[start_timestamp_key] = df[timestamp_key]\n",
      "/Users/yamada/miniforge3/envs/.env_mineracao/lib/python3.11/site-packages/pm4py/algo/discovery/dfg/adapters/pandas/df_statistics.py:73: SettingWithCopyWarning: \n",
      "A value is trying to be set on a copy of a slice from a DataFrame.\n",
      "Try using .loc[row_indexer,col_indexer] = value instead\n",
      "\n",
      "See the caveats in the documentation: https://pandas.pydata.org/pandas-docs/stable/user_guide/indexing.html#returning-a-view-versus-a-copy\n",
      "  df[start_timestamp_key] = df[timestamp_key]\n",
      "/Users/yamada/miniforge3/envs/.env_mineracao/lib/python3.11/site-packages/pm4py/algo/discovery/dfg/adapters/pandas/df_statistics.py:73: SettingWithCopyWarning: \n",
      "A value is trying to be set on a copy of a slice from a DataFrame.\n",
      "Try using .loc[row_indexer,col_indexer] = value instead\n",
      "\n",
      "See the caveats in the documentation: https://pandas.pydata.org/pandas-docs/stable/user_guide/indexing.html#returning-a-view-versus-a-copy\n",
      "  df[start_timestamp_key] = df[timestamp_key]\n",
      "/Users/yamada/miniforge3/envs/.env_mineracao/lib/python3.11/site-packages/pm4py/algo/discovery/dfg/adapters/pandas/df_statistics.py:73: SettingWithCopyWarning: \n",
      "A value is trying to be set on a copy of a slice from a DataFrame.\n",
      "Try using .loc[row_indexer,col_indexer] = value instead\n",
      "\n",
      "See the caveats in the documentation: https://pandas.pydata.org/pandas-docs/stable/user_guide/indexing.html#returning-a-view-versus-a-copy\n",
      "  df[start_timestamp_key] = df[timestamp_key]\n",
      "replaying log with TBR, completed variants :: 100%|██████████| 710/710 [00:00<00:00, 4935.77it/s]\n"
     ]
    },
    {
     "name": "stdout",
     "output_type": "stream",
     "text": [
      "Precision - Token replay: 0.8480199410195197\n"
     ]
    },
    {
     "name": "stderr",
     "output_type": "stream",
     "text": [
      "replaying log with TBR, completed variants :: 100%|██████████| 151/151 [00:00<00:00, 1765.03it/s]\n"
     ]
    },
    {
     "name": "stdout",
     "output_type": "stream",
     "text": [
      "Generalization: 0.493891185072422\n",
      "Simplicity: 0.5571428571428572\n"
     ]
    },
    {
     "name": "stderr",
     "output_type": "stream",
     "text": [
      "replaying log with TBR, completed variants :: 100%|██████████| 151/151 [00:00<00:00, 1759.97it/s]\n",
      "/Users/yamada/miniforge3/envs/.env_mineracao/lib/python3.11/site-packages/pm4py/algo/discovery/dfg/adapters/pandas/df_statistics.py:73: SettingWithCopyWarning: \n",
      "A value is trying to be set on a copy of a slice from a DataFrame.\n",
      "Try using .loc[row_indexer,col_indexer] = value instead\n",
      "\n",
      "See the caveats in the documentation: https://pandas.pydata.org/pandas-docs/stable/user_guide/indexing.html#returning-a-view-versus-a-copy\n",
      "  df[start_timestamp_key] = df[timestamp_key]\n",
      "/Users/yamada/miniforge3/envs/.env_mineracao/lib/python3.11/site-packages/pm4py/algo/discovery/dfg/adapters/pandas/df_statistics.py:73: SettingWithCopyWarning: \n",
      "A value is trying to be set on a copy of a slice from a DataFrame.\n",
      "Try using .loc[row_indexer,col_indexer] = value instead\n",
      "\n",
      "See the caveats in the documentation: https://pandas.pydata.org/pandas-docs/stable/user_guide/indexing.html#returning-a-view-versus-a-copy\n",
      "  df[start_timestamp_key] = df[timestamp_key]\n",
      "/Users/yamada/miniforge3/envs/.env_mineracao/lib/python3.11/site-packages/pm4py/algo/discovery/dfg/adapters/pandas/df_statistics.py:73: SettingWithCopyWarning: \n",
      "A value is trying to be set on a copy of a slice from a DataFrame.\n",
      "Try using .loc[row_indexer,col_indexer] = value instead\n",
      "\n",
      "See the caveats in the documentation: https://pandas.pydata.org/pandas-docs/stable/user_guide/indexing.html#returning-a-view-versus-a-copy\n",
      "  df[start_timestamp_key] = df[timestamp_key]\n",
      "/Users/yamada/miniforge3/envs/.env_mineracao/lib/python3.11/site-packages/pm4py/algo/discovery/dfg/adapters/pandas/df_statistics.py:73: SettingWithCopyWarning: \n",
      "A value is trying to be set on a copy of a slice from a DataFrame.\n",
      "Try using .loc[row_indexer,col_indexer] = value instead\n",
      "\n",
      "See the caveats in the documentation: https://pandas.pydata.org/pandas-docs/stable/user_guide/indexing.html#returning-a-view-versus-a-copy\n",
      "  df[start_timestamp_key] = df[timestamp_key]\n",
      "replaying log with TBR, completed variants :: 100%|██████████| 710/710 [00:00<00:00, 8755.27it/s]\n"
     ]
    },
    {
     "name": "stdout",
     "output_type": "stream",
     "text": [
      "Precision - Token replay: 0.7762337610103367\n"
     ]
    },
    {
     "name": "stderr",
     "output_type": "stream",
     "text": [
      "replaying log with TBR, completed variants :: 100%|██████████| 151/151 [00:00<00:00, 3306.05it/s]\n"
     ]
    },
    {
     "name": "stdout",
     "output_type": "stream",
     "text": [
      "Generalization: 0.746496582761218\n",
      "Simplicity: 0.7499999999999999\n"
     ]
    },
    {
     "name": "stderr",
     "output_type": "stream",
     "text": [
      "replaying log with TBR, completed variants :: 100%|██████████| 151/151 [00:00<00:00, 3154.51it/s]\n",
      "/Users/yamada/miniforge3/envs/.env_mineracao/lib/python3.11/site-packages/pm4py/algo/discovery/dfg/adapters/pandas/df_statistics.py:73: SettingWithCopyWarning: \n",
      "A value is trying to be set on a copy of a slice from a DataFrame.\n",
      "Try using .loc[row_indexer,col_indexer] = value instead\n",
      "\n",
      "See the caveats in the documentation: https://pandas.pydata.org/pandas-docs/stable/user_guide/indexing.html#returning-a-view-versus-a-copy\n",
      "  df[start_timestamp_key] = df[timestamp_key]\n",
      "replaying log with TBR, completed variants :: 100%|██████████| 710/710 [00:00<00:00, 21596.13it/s]\n"
     ]
    },
    {
     "name": "stdout",
     "output_type": "stream",
     "text": [
      "Precision - Token replay: 1.0\n"
     ]
    },
    {
     "name": "stderr",
     "output_type": "stream",
     "text": [
      "replaying log with TBR, completed variants :: 100%|██████████| 151/151 [00:00<00:00, 1938.64it/s]\n"
     ]
    },
    {
     "name": "stdout",
     "output_type": "stream",
     "text": [
      "Generalization: 0.6459145554732799\n",
      "Simplicity: 0.33766233766233766\n"
     ]
    },
    {
     "name": "stderr",
     "output_type": "stream",
     "text": [
      "replaying log with TBR, completed variants :: 100%|██████████| 151/151 [00:00<00:00, 1982.23it/s]\n",
      "replaying log with TBR, completed variants :: 100%|██████████| 710/710 [00:00<00:00, 4764.87it/s]\n"
     ]
    },
    {
     "name": "stdout",
     "output_type": "stream",
     "text": [
      "Precision - Token replay: 0.6439826280463731\n"
     ]
    },
    {
     "name": "stderr",
     "output_type": "stream",
     "text": [
      "replaying log with TBR, completed variants :: 100%|██████████| 151/151 [00:00<00:00, 1397.63it/s]\n"
     ]
    },
    {
     "name": "stdout",
     "output_type": "stream",
     "text": [
      "Generalization: 0.6728872368059522\n",
      "Simplicity: 0.18493150684931506\n"
     ]
    },
    {
     "name": "stderr",
     "output_type": "stream",
     "text": [
      "replaying log with TBR, completed variants :: 100%|██████████| 151/151 [00:00<00:00, 1386.76it/s]\n"
     ]
    }
   ],
   "source": [
    "path_folder_file = \"/Users/yamada/USP/Materias/7 semestre/Mineracao de dados/Celonis Dataset/BPI Challenge 2020 - Prepaid Travel Costs/\"\n",
    "path_file = os.path.join(path_folder_file,'PrepaidTravelCost.xes')\n",
    "log = pm4py.read_xes(path_file)\n",
    "\n",
    "end_datetime = pd.to_datetime('2018-01-01').tz_localize('UTC')\n",
    "log_until_2017 = log[log['time:timestamp'] < end_datetime]\n",
    "log_after_2017 = log[log['time:timestamp'] >= end_datetime]\n",
    "\n",
    "\n",
    "# Discover a model using log until 2017 and generating metrics for 100% of the log\n",
    "path_folder_bpmn = \"./results_model_100_check_100_log\"\n",
    "path_folder_png = \"./results_model_100_check_100_log\"\n",
    "results_model_100_check_100_log, replayed_traces_model_100_check_100_log = discovery_log_dataframe(\n",
    "    path_folder_bpmn=path_folder_bpmn,\n",
    "    path_folder_png=path_folder_png,\n",
    "    train_log=log,\n",
    "    test_log=log\n",
    "    )\n",
    "\n",
    "# Discover a model using log until 2017 and generating metrics for 100% of the log\n",
    "path_folder_bpmn = \"./results_model_until_2017_check_100_log\"\n",
    "path_folder_png = \"./results_model_until_2017_check_100_log\"\n",
    "results_model_until_2017_check_100_log, replayed_traces_model_until_2017_check_100_log = discovery_log_dataframe(\n",
    "    path_folder_bpmn=path_folder_bpmn,\n",
    "    path_folder_png=path_folder_png,\n",
    "    train_log=log_until_2017,\n",
    "    test_log=log\n",
    "    )\n",
    "\n",
    "# Discover a model using log after 2017 and generating metrics for 100% of the log\n",
    "path_folder_bpmn = \"./results_model_after_2017_check_100_log\"\n",
    "path_folder_png = \"./results_model_after_2017_check_100_log\"\n",
    "\n",
    "results_model_after_2017_check_100_log, replayed_traces_model_after_2017_check_100_log = discovery_log_dataframe(\n",
    "    path_folder_bpmn=path_folder_bpmn,\n",
    "    path_folder_png=path_folder_png,\n",
    "    train_log=log_after_2017,\n",
    "    test_log=log\n",
    "    )\n",
    "\n",
    "# Discover a model using log until 2017 and generating metrics for log after 2017\n",
    "path_folder_bpmn = \"./results_model_after_2017_check_log_until_2017\"\n",
    "path_folder_png = \"./results_model_after_2017_check_log_until_2017\"\n",
    "\n",
    "results_model_after_2017_check_log_until_2017, replayed_traces_model_after_2017_check_log_until_2017 = discovery_log_dataframe(\n",
    "    path_folder_bpmn=path_folder_bpmn,\n",
    "    path_folder_png=path_folder_png,\n",
    "    train_log=log_after_2017,\n",
    "    test_log=log_until_2017\n",
    "    )\n",
    "\n",
    "# Discover a model using log after 2017 and generating metrics for 100% of the log\n",
    "path_folder_bpmn = \"./results_model_until_2017_check_log_after_2017\"\n",
    "path_folder_png = \"./results_model_until_2017_check_log_after_2017\"\n",
    "\n",
    "results_model_until_2017_check_log_after_2017, replayed_traces_model_until_2017_check_log_after_2017 = discovery_log_dataframe(\n",
    "    path_folder_bpmn=path_folder_bpmn,\n",
    "    path_folder_png=path_folder_png,\n",
    "    train_log=log_until_2017,\n",
    "    test_log=log_after_2017\n",
    "    )"
   ]
  },
  {
   "cell_type": "code",
   "execution_count": 6,
   "metadata": {},
   "outputs": [],
   "source": [
    "def create_description(results:dict, description:str):\n",
    "    df = pd.DataFrame(results)\n",
    "    df['Description'] = description\n",
    "    df.set_index('Description', append=True, inplace=True)   \n",
    "    return df\n",
    "\n",
    "df = pd.concat([\n",
    "    create_description(results_model_100_check_100_log,'Discover 100% log check 100% log'),\n",
    "    create_description(results_model_until_2017_check_100_log,'Discover until 2017 check 100% log'),\n",
    "    create_description(results_model_after_2017_check_100_log,'Discover after 2017 check 100% log'),\n",
    "    create_description(results_model_until_2017_check_log_after_2017,'Discover until 2017 check log after 2017'),\n",
    "    create_description(results_model_after_2017_check_log_until_2017,'Discover after 2017 check log until 2017')\n",
    "])\n"
   ]
  },
  {
   "cell_type": "code",
   "execution_count": 7,
   "metadata": {},
   "outputs": [
    {
     "data": {
      "text/html": [
       "<div>\n",
       "<style scoped>\n",
       "    .dataframe tbody tr th:only-of-type {\n",
       "        vertical-align: middle;\n",
       "    }\n",
       "\n",
       "    .dataframe tbody tr th {\n",
       "        vertical-align: top;\n",
       "    }\n",
       "\n",
       "    .dataframe thead th {\n",
       "        text-align: right;\n",
       "    }\n",
       "</style>\n",
       "<table border=\"1\" class=\"dataframe\">\n",
       "  <thead>\n",
       "    <tr style=\"text-align: right;\">\n",
       "      <th></th>\n",
       "      <th></th>\n",
       "      <th>Inductive_Miner</th>\n",
       "      <th>Heuristic_Miner</th>\n",
       "      <th>Heuristic_Miner_0.99</th>\n",
       "      <th>Alpha</th>\n",
       "      <th>Alpha_Plus</th>\n",
       "    </tr>\n",
       "    <tr>\n",
       "      <th></th>\n",
       "      <th>Description</th>\n",
       "      <th></th>\n",
       "      <th></th>\n",
       "      <th></th>\n",
       "      <th></th>\n",
       "      <th></th>\n",
       "    </tr>\n",
       "  </thead>\n",
       "  <tbody>\n",
       "    <tr>\n",
       "      <th>Precisao</th>\n",
       "      <th>Discover 100% log check 100% log</th>\n",
       "      <td>0.121710</td>\n",
       "      <td>0.958789</td>\n",
       "      <td>0.982164</td>\n",
       "      <td>0.000000</td>\n",
       "      <td>1.000000</td>\n",
       "    </tr>\n",
       "    <tr>\n",
       "      <th>Generalizacao</th>\n",
       "      <th>Discover 100% log check 100% log</th>\n",
       "      <td>0.894975</td>\n",
       "      <td>0.598858</td>\n",
       "      <td>0.829299</td>\n",
       "      <td>0.877309</td>\n",
       "      <td>0.882187</td>\n",
       "    </tr>\n",
       "    <tr>\n",
       "      <th>Simplicidade</th>\n",
       "      <th>Discover 100% log check 100% log</th>\n",
       "      <td>0.589744</td>\n",
       "      <td>0.523810</td>\n",
       "      <td>0.610390</td>\n",
       "      <td>0.194079</td>\n",
       "      <td>0.091006</td>\n",
       "    </tr>\n",
       "    <tr>\n",
       "      <th>Precisao</th>\n",
       "      <th>Discover until 2017 check 100% log</th>\n",
       "      <td>0.188046</td>\n",
       "      <td>0.925112</td>\n",
       "      <td>0.858644</td>\n",
       "      <td>1.000000</td>\n",
       "      <td>0.831337</td>\n",
       "    </tr>\n",
       "    <tr>\n",
       "      <th>Generalizacao</th>\n",
       "      <th>Discover until 2017 check 100% log</th>\n",
       "      <td>0.876010</td>\n",
       "      <td>0.719839</td>\n",
       "      <td>0.880334</td>\n",
       "      <td>0.881606</td>\n",
       "      <td>0.888377</td>\n",
       "    </tr>\n",
       "    <tr>\n",
       "      <th>Simplicidade</th>\n",
       "      <th>Discover until 2017 check 100% log</th>\n",
       "      <td>0.615894</td>\n",
       "      <td>0.557143</td>\n",
       "      <td>0.750000</td>\n",
       "      <td>0.337662</td>\n",
       "      <td>0.184932</td>\n",
       "    </tr>\n",
       "    <tr>\n",
       "      <th>Precisao</th>\n",
       "      <th>Discover after 2017 check 100% log</th>\n",
       "      <td>0.238442</td>\n",
       "      <td>0.710354</td>\n",
       "      <td>0.712326</td>\n",
       "      <td>0.000000</td>\n",
       "      <td>1.000000</td>\n",
       "    </tr>\n",
       "    <tr>\n",
       "      <th>Generalizacao</th>\n",
       "      <th>Discover after 2017 check 100% log</th>\n",
       "      <td>0.900445</td>\n",
       "      <td>0.656425</td>\n",
       "      <td>0.844638</td>\n",
       "      <td>0.897079</td>\n",
       "      <td>0.902700</td>\n",
       "    </tr>\n",
       "    <tr>\n",
       "      <th>Simplicidade</th>\n",
       "      <th>Discover after 2017 check 100% log</th>\n",
       "      <td>0.555556</td>\n",
       "      <td>0.539906</td>\n",
       "      <td>0.657143</td>\n",
       "      <td>0.219512</td>\n",
       "      <td>0.091737</td>\n",
       "    </tr>\n",
       "    <tr>\n",
       "      <th>Precisao</th>\n",
       "      <th>Discover until 2017 check log after 2017</th>\n",
       "      <td>0.166114</td>\n",
       "      <td>0.848020</td>\n",
       "      <td>0.776234</td>\n",
       "      <td>1.000000</td>\n",
       "      <td>0.643983</td>\n",
       "    </tr>\n",
       "    <tr>\n",
       "      <th>Generalizacao</th>\n",
       "      <th>Discover until 2017 check log after 2017</th>\n",
       "      <td>0.709774</td>\n",
       "      <td>0.493891</td>\n",
       "      <td>0.746497</td>\n",
       "      <td>0.645915</td>\n",
       "      <td>0.672887</td>\n",
       "    </tr>\n",
       "    <tr>\n",
       "      <th>Simplicidade</th>\n",
       "      <th>Discover until 2017 check log after 2017</th>\n",
       "      <td>0.615894</td>\n",
       "      <td>0.557143</td>\n",
       "      <td>0.750000</td>\n",
       "      <td>0.337662</td>\n",
       "      <td>0.184932</td>\n",
       "    </tr>\n",
       "    <tr>\n",
       "      <th>Precisao</th>\n",
       "      <th>Discover after 2017 check log until 2017</th>\n",
       "      <td>0.188862</td>\n",
       "      <td>0.680825</td>\n",
       "      <td>0.620039</td>\n",
       "      <td>0.000000</td>\n",
       "      <td>1.000000</td>\n",
       "    </tr>\n",
       "    <tr>\n",
       "      <th>Generalizacao</th>\n",
       "      <th>Discover after 2017 check log until 2017</th>\n",
       "      <td>0.692579</td>\n",
       "      <td>0.310391</td>\n",
       "      <td>0.516982</td>\n",
       "      <td>0.517960</td>\n",
       "      <td>0.548854</td>\n",
       "    </tr>\n",
       "    <tr>\n",
       "      <th>Simplicidade</th>\n",
       "      <th>Discover after 2017 check log until 2017</th>\n",
       "      <td>0.555556</td>\n",
       "      <td>0.539906</td>\n",
       "      <td>0.657143</td>\n",
       "      <td>0.219512</td>\n",
       "      <td>0.091737</td>\n",
       "    </tr>\n",
       "  </tbody>\n",
       "</table>\n",
       "</div>"
      ],
      "text/plain": [
       "                                                        Inductive_Miner   \n",
       "              Description                                                 \n",
       "Precisao      Discover 100% log check 100% log                 0.121710  \\\n",
       "Generalizacao Discover 100% log check 100% log                 0.894975   \n",
       "Simplicidade  Discover 100% log check 100% log                 0.589744   \n",
       "Precisao      Discover until 2017 check 100% log               0.188046   \n",
       "Generalizacao Discover until 2017 check 100% log               0.876010   \n",
       "Simplicidade  Discover until 2017 check 100% log               0.615894   \n",
       "Precisao      Discover after 2017 check 100% log               0.238442   \n",
       "Generalizacao Discover after 2017 check 100% log               0.900445   \n",
       "Simplicidade  Discover after 2017 check 100% log               0.555556   \n",
       "Precisao      Discover until 2017 check log after 2017         0.166114   \n",
       "Generalizacao Discover until 2017 check log after 2017         0.709774   \n",
       "Simplicidade  Discover until 2017 check log after 2017         0.615894   \n",
       "Precisao      Discover after 2017 check log until 2017         0.188862   \n",
       "Generalizacao Discover after 2017 check log until 2017         0.692579   \n",
       "Simplicidade  Discover after 2017 check log until 2017         0.555556   \n",
       "\n",
       "                                                        Heuristic_Miner   \n",
       "              Description                                                 \n",
       "Precisao      Discover 100% log check 100% log                 0.958789  \\\n",
       "Generalizacao Discover 100% log check 100% log                 0.598858   \n",
       "Simplicidade  Discover 100% log check 100% log                 0.523810   \n",
       "Precisao      Discover until 2017 check 100% log               0.925112   \n",
       "Generalizacao Discover until 2017 check 100% log               0.719839   \n",
       "Simplicidade  Discover until 2017 check 100% log               0.557143   \n",
       "Precisao      Discover after 2017 check 100% log               0.710354   \n",
       "Generalizacao Discover after 2017 check 100% log               0.656425   \n",
       "Simplicidade  Discover after 2017 check 100% log               0.539906   \n",
       "Precisao      Discover until 2017 check log after 2017         0.848020   \n",
       "Generalizacao Discover until 2017 check log after 2017         0.493891   \n",
       "Simplicidade  Discover until 2017 check log after 2017         0.557143   \n",
       "Precisao      Discover after 2017 check log until 2017         0.680825   \n",
       "Generalizacao Discover after 2017 check log until 2017         0.310391   \n",
       "Simplicidade  Discover after 2017 check log until 2017         0.539906   \n",
       "\n",
       "                                                        Heuristic_Miner_0.99   \n",
       "              Description                                                      \n",
       "Precisao      Discover 100% log check 100% log                      0.982164  \\\n",
       "Generalizacao Discover 100% log check 100% log                      0.829299   \n",
       "Simplicidade  Discover 100% log check 100% log                      0.610390   \n",
       "Precisao      Discover until 2017 check 100% log                    0.858644   \n",
       "Generalizacao Discover until 2017 check 100% log                    0.880334   \n",
       "Simplicidade  Discover until 2017 check 100% log                    0.750000   \n",
       "Precisao      Discover after 2017 check 100% log                    0.712326   \n",
       "Generalizacao Discover after 2017 check 100% log                    0.844638   \n",
       "Simplicidade  Discover after 2017 check 100% log                    0.657143   \n",
       "Precisao      Discover until 2017 check log after 2017              0.776234   \n",
       "Generalizacao Discover until 2017 check log after 2017              0.746497   \n",
       "Simplicidade  Discover until 2017 check log after 2017              0.750000   \n",
       "Precisao      Discover after 2017 check log until 2017              0.620039   \n",
       "Generalizacao Discover after 2017 check log until 2017              0.516982   \n",
       "Simplicidade  Discover after 2017 check log until 2017              0.657143   \n",
       "\n",
       "                                                           Alpha  Alpha_Plus  \n",
       "              Description                                                     \n",
       "Precisao      Discover 100% log check 100% log          0.000000    1.000000  \n",
       "Generalizacao Discover 100% log check 100% log          0.877309    0.882187  \n",
       "Simplicidade  Discover 100% log check 100% log          0.194079    0.091006  \n",
       "Precisao      Discover until 2017 check 100% log        1.000000    0.831337  \n",
       "Generalizacao Discover until 2017 check 100% log        0.881606    0.888377  \n",
       "Simplicidade  Discover until 2017 check 100% log        0.337662    0.184932  \n",
       "Precisao      Discover after 2017 check 100% log        0.000000    1.000000  \n",
       "Generalizacao Discover after 2017 check 100% log        0.897079    0.902700  \n",
       "Simplicidade  Discover after 2017 check 100% log        0.219512    0.091737  \n",
       "Precisao      Discover until 2017 check log after 2017  1.000000    0.643983  \n",
       "Generalizacao Discover until 2017 check log after 2017  0.645915    0.672887  \n",
       "Simplicidade  Discover until 2017 check log after 2017  0.337662    0.184932  \n",
       "Precisao      Discover after 2017 check log until 2017  0.000000    1.000000  \n",
       "Generalizacao Discover after 2017 check log until 2017  0.517960    0.548854  \n",
       "Simplicidade  Discover after 2017 check log until 2017  0.219512    0.091737  "
      ]
     },
     "execution_count": 7,
     "metadata": {},
     "output_type": "execute_result"
    }
   ],
   "source": [
    "df"
   ]
  },
  {
   "cell_type": "code",
   "execution_count": 15,
   "metadata": {},
   "outputs": [
    {
     "name": "stdout",
     "output_type": "stream",
     "text": [
      "0.8675559790376369\n",
      "1.0\n",
      "0.8440469536053661\n",
      "1.0\n"
     ]
    }
   ],
   "source": [
    "# pd.DataFrame(replayed_traces)\n",
    "# pd.DataFrame(replayed_traces)['trace_is_fit'].sum()/pd.DataFrame(replayed_traces)['trace_is_fit'].count()\n",
    "\n",
    "def trace_conformance_porcentage(replayed_traces:dict,model_name:str):\n",
    "    df = pd.DataFrame(replayed_traces[model_name])\n",
    "    return df['trace_is_fit'].sum()/df.shape[0]\n",
    "\n",
    "print(trace_conformance_porcentage(replayed_traces_model_100_check_100_log,'Inductive_Miner'))\n",
    "print(trace_conformance_porcentage(replayed_traces_model_until_2017_check_100_log,'Inductive_Miner'))\n",
    "print(trace_conformance_porcentage(replayed_traces_model_after_2017_check_100_log,'Inductive_Miner'))\n",
    "print(trace_conformance_porcentage(replayed_traces_model_until_2017_check_log_after_2017,'Inductive_Miner'))\n",
    "print(trace_conformance_porcentage(replayed_traces_model_after_2017_check_log_until_2017,'Inductive_Miner'))"
   ]
  },
  {
   "cell_type": "code",
   "execution_count": 19,
   "metadata": {},
   "outputs": [
    {
     "data": {
      "text/html": [
       "<div>\n",
       "<style scoped>\n",
       "    .dataframe tbody tr th:only-of-type {\n",
       "        vertical-align: middle;\n",
       "    }\n",
       "\n",
       "    .dataframe tbody tr th {\n",
       "        vertical-align: top;\n",
       "    }\n",
       "\n",
       "    .dataframe thead th {\n",
       "        text-align: right;\n",
       "    }\n",
       "</style>\n",
       "<table border=\"1\" class=\"dataframe\">\n",
       "  <thead>\n",
       "    <tr style=\"text-align: right;\">\n",
       "      <th></th>\n",
       "      <th>trace_is_fit</th>\n",
       "      <th>trace_fitness</th>\n",
       "      <th>activated_transitions</th>\n",
       "      <th>reached_marking</th>\n",
       "      <th>enabled_transitions_in_marking</th>\n",
       "      <th>transitions_with_problems</th>\n",
       "      <th>missing_tokens</th>\n",
       "      <th>consumed_tokens</th>\n",
       "      <th>remaining_tokens</th>\n",
       "      <th>produced_tokens</th>\n",
       "    </tr>\n",
       "  </thead>\n",
       "  <tbody>\n",
       "    <tr>\n",
       "      <th>0</th>\n",
       "      <td>True</td>\n",
       "      <td>1.0</td>\n",
       "      <td>[(tau_1, None), (init_loop_5, None), (tauSplit...</td>\n",
       "      <td>{sink: 1}</td>\n",
       "      <td>{}</td>\n",
       "      <td>[]</td>\n",
       "      <td>0</td>\n",
       "      <td>37</td>\n",
       "      <td>0</td>\n",
       "      <td>37</td>\n",
       "    </tr>\n",
       "    <tr>\n",
       "      <th>1</th>\n",
       "      <td>True</td>\n",
       "      <td>1.0</td>\n",
       "      <td>[(tau_1, None), (init_loop_5, None), (tauSplit...</td>\n",
       "      <td>{sink: 1}</td>\n",
       "      <td>{}</td>\n",
       "      <td>[]</td>\n",
       "      <td>0</td>\n",
       "      <td>59</td>\n",
       "      <td>0</td>\n",
       "      <td>59</td>\n",
       "    </tr>\n",
       "    <tr>\n",
       "      <th>2</th>\n",
       "      <td>True</td>\n",
       "      <td>1.0</td>\n",
       "      <td>[(tau_1, None), (init_loop_5, None), (tauSplit...</td>\n",
       "      <td>{sink: 1}</td>\n",
       "      <td>{}</td>\n",
       "      <td>[]</td>\n",
       "      <td>0</td>\n",
       "      <td>40</td>\n",
       "      <td>0</td>\n",
       "      <td>40</td>\n",
       "    </tr>\n",
       "    <tr>\n",
       "      <th>3</th>\n",
       "      <td>True</td>\n",
       "      <td>1.0</td>\n",
       "      <td>[(tau_1, None), (init_loop_5, None), (tauSplit...</td>\n",
       "      <td>{sink: 1}</td>\n",
       "      <td>{}</td>\n",
       "      <td>[]</td>\n",
       "      <td>0</td>\n",
       "      <td>42</td>\n",
       "      <td>0</td>\n",
       "      <td>42</td>\n",
       "    </tr>\n",
       "    <tr>\n",
       "      <th>4</th>\n",
       "      <td>True</td>\n",
       "      <td>1.0</td>\n",
       "      <td>[(tau_1, None), (init_loop_5, None), (tauSplit...</td>\n",
       "      <td>{sink: 1}</td>\n",
       "      <td>{}</td>\n",
       "      <td>[]</td>\n",
       "      <td>0</td>\n",
       "      <td>42</td>\n",
       "      <td>0</td>\n",
       "      <td>42</td>\n",
       "    </tr>\n",
       "    <tr>\n",
       "      <th>...</th>\n",
       "      <td>...</td>\n",
       "      <td>...</td>\n",
       "      <td>...</td>\n",
       "      <td>...</td>\n",
       "      <td>...</td>\n",
       "      <td>...</td>\n",
       "      <td>...</td>\n",
       "      <td>...</td>\n",
       "      <td>...</td>\n",
       "      <td>...</td>\n",
       "    </tr>\n",
       "    <tr>\n",
       "      <th>2094</th>\n",
       "      <td>True</td>\n",
       "      <td>1.0</td>\n",
       "      <td>[(tau_1, None), (init_loop_5, None), (tauSplit...</td>\n",
       "      <td>{sink: 1}</td>\n",
       "      <td>{}</td>\n",
       "      <td>[]</td>\n",
       "      <td>0</td>\n",
       "      <td>37</td>\n",
       "      <td>0</td>\n",
       "      <td>37</td>\n",
       "    </tr>\n",
       "    <tr>\n",
       "      <th>2095</th>\n",
       "      <td>True</td>\n",
       "      <td>1.0</td>\n",
       "      <td>[(tau_1, None), (init_loop_5, None), (tauSplit...</td>\n",
       "      <td>{sink: 1}</td>\n",
       "      <td>{}</td>\n",
       "      <td>[]</td>\n",
       "      <td>0</td>\n",
       "      <td>61</td>\n",
       "      <td>0</td>\n",
       "      <td>61</td>\n",
       "    </tr>\n",
       "    <tr>\n",
       "      <th>2096</th>\n",
       "      <td>True</td>\n",
       "      <td>1.0</td>\n",
       "      <td>[(tau_1, None), (init_loop_5, None), (tauSplit...</td>\n",
       "      <td>{sink: 1}</td>\n",
       "      <td>{}</td>\n",
       "      <td>[]</td>\n",
       "      <td>0</td>\n",
       "      <td>61</td>\n",
       "      <td>0</td>\n",
       "      <td>61</td>\n",
       "    </tr>\n",
       "    <tr>\n",
       "      <th>2097</th>\n",
       "      <td>True</td>\n",
       "      <td>1.0</td>\n",
       "      <td>[(tau_1, None), (init_loop_5, None), (tauSplit...</td>\n",
       "      <td>{sink: 1}</td>\n",
       "      <td>{}</td>\n",
       "      <td>[]</td>\n",
       "      <td>0</td>\n",
       "      <td>61</td>\n",
       "      <td>0</td>\n",
       "      <td>61</td>\n",
       "    </tr>\n",
       "    <tr>\n",
       "      <th>2098</th>\n",
       "      <td>True</td>\n",
       "      <td>1.0</td>\n",
       "      <td>[(tau_1, None), (init_loop_5, None), (tauSplit...</td>\n",
       "      <td>{sink: 1}</td>\n",
       "      <td>{}</td>\n",
       "      <td>[]</td>\n",
       "      <td>0</td>\n",
       "      <td>61</td>\n",
       "      <td>0</td>\n",
       "      <td>61</td>\n",
       "    </tr>\n",
       "  </tbody>\n",
       "</table>\n",
       "<p>2099 rows × 10 columns</p>\n",
       "</div>"
      ],
      "text/plain": [
       "      trace_is_fit  trace_fitness   \n",
       "0             True            1.0  \\\n",
       "1             True            1.0   \n",
       "2             True            1.0   \n",
       "3             True            1.0   \n",
       "4             True            1.0   \n",
       "...            ...            ...   \n",
       "2094          True            1.0   \n",
       "2095          True            1.0   \n",
       "2096          True            1.0   \n",
       "2097          True            1.0   \n",
       "2098          True            1.0   \n",
       "\n",
       "                                  activated_transitions reached_marking   \n",
       "0     [(tau_1, None), (init_loop_5, None), (tauSplit...       {sink: 1}  \\\n",
       "1     [(tau_1, None), (init_loop_5, None), (tauSplit...       {sink: 1}   \n",
       "2     [(tau_1, None), (init_loop_5, None), (tauSplit...       {sink: 1}   \n",
       "3     [(tau_1, None), (init_loop_5, None), (tauSplit...       {sink: 1}   \n",
       "4     [(tau_1, None), (init_loop_5, None), (tauSplit...       {sink: 1}   \n",
       "...                                                 ...             ...   \n",
       "2094  [(tau_1, None), (init_loop_5, None), (tauSplit...       {sink: 1}   \n",
       "2095  [(tau_1, None), (init_loop_5, None), (tauSplit...       {sink: 1}   \n",
       "2096  [(tau_1, None), (init_loop_5, None), (tauSplit...       {sink: 1}   \n",
       "2097  [(tau_1, None), (init_loop_5, None), (tauSplit...       {sink: 1}   \n",
       "2098  [(tau_1, None), (init_loop_5, None), (tauSplit...       {sink: 1}   \n",
       "\n",
       "     enabled_transitions_in_marking transitions_with_problems  missing_tokens   \n",
       "0                                {}                        []               0  \\\n",
       "1                                {}                        []               0   \n",
       "2                                {}                        []               0   \n",
       "3                                {}                        []               0   \n",
       "4                                {}                        []               0   \n",
       "...                             ...                       ...             ...   \n",
       "2094                             {}                        []               0   \n",
       "2095                             {}                        []               0   \n",
       "2096                             {}                        []               0   \n",
       "2097                             {}                        []               0   \n",
       "2098                             {}                        []               0   \n",
       "\n",
       "      consumed_tokens  remaining_tokens  produced_tokens  \n",
       "0                  37                 0               37  \n",
       "1                  59                 0               59  \n",
       "2                  40                 0               40  \n",
       "3                  42                 0               42  \n",
       "4                  42                 0               42  \n",
       "...               ...               ...              ...  \n",
       "2094               37                 0               37  \n",
       "2095               61                 0               61  \n",
       "2096               61                 0               61  \n",
       "2097               61                 0               61  \n",
       "2098               61                 0               61  \n",
       "\n",
       "[2099 rows x 10 columns]"
      ]
     },
     "execution_count": 19,
     "metadata": {},
     "output_type": "execute_result"
    }
   ],
   "source": [
    "pd.DataFrame(replayed_traces_model_after_2017_check_100_log['Inductive_Miner'])"
   ]
  }
 ],
 "metadata": {
  "kernelspec": {
   "display_name": ".env_mineracao",
   "language": "python",
   "name": "python3"
  },
  "language_info": {
   "codemirror_mode": {
    "name": "ipython",
    "version": 3
   },
   "file_extension": ".py",
   "mimetype": "text/x-python",
   "name": "python",
   "nbconvert_exporter": "python",
   "pygments_lexer": "ipython3",
   "version": "3.11.3"
  },
  "orig_nbformat": 4
 },
 "nbformat": 4,
 "nbformat_minor": 2
}
