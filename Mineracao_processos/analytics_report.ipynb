{
 "cells": [
  {
   "cell_type": "code",
   "execution_count": 6,
   "metadata": {},
   "outputs": [],
   "source": [
    "import pandas as pd\n",
    "from ETL import discovery\n",
    "import matplotlib.pyplot as plt\n",
    "%matplotlib inline"
   ]
  },
  {
   "cell_type": "code",
   "execution_count": 2,
   "metadata": {},
   "outputs": [
    {
     "name": "stderr",
     "output_type": "stream",
     "text": [
      "/Users/yamada/miniforge3/envs/.env_mineracao/lib/python3.11/site-packages/tqdm/auto.py:21: TqdmWarning: IProgress not found. Please update jupyter and ipywidgets. See https://ipywidgets.readthedocs.io/en/stable/user_install.html\n",
      "  from .autonotebook import tqdm as notebook_tqdm\n",
      "parsing log, completed traces :: 100%|██████████| 2099/2099 [00:00<00:00, 4800.67it/s]\n",
      "/Users/yamada/miniforge3/envs/.env_mineracao/lib/python3.11/site-packages/pm4py/objects/log/util/dataframe_utils.py:176: UserWarning: Could not infer format, so each element will be parsed individually, falling back to `dateutil`. To ensure parsing is consistent and as-expected, please specify a format.\n",
      "  df[col] = pd.to_datetime(df[col], utc=True)\n",
      "/Users/yamada/miniforge3/envs/.env_mineracao/lib/python3.11/site-packages/pm4py/objects/log/util/dataframe_utils.py:176: UserWarning: Could not infer format, so each element will be parsed individually, falling back to `dateutil`. To ensure parsing is consistent and as-expected, please specify a format.\n",
      "  df[col] = pd.to_datetime(df[col], utc=True)\n",
      "/Users/yamada/miniforge3/envs/.env_mineracao/lib/python3.11/site-packages/pm4py/objects/log/util/dataframe_utils.py:176: UserWarning: Could not infer format, so each element will be parsed individually, falling back to `dateutil`. To ensure parsing is consistent and as-expected, please specify a format.\n",
      "  df[col] = pd.to_datetime(df[col], utc=True)\n",
      "/Users/yamada/miniforge3/envs/.env_mineracao/lib/python3.11/site-packages/pm4py/objects/log/util/dataframe_utils.py:176: UserWarning: Could not infer format, so each element will be parsed individually, falling back to `dateutil`. To ensure parsing is consistent and as-expected, please specify a format.\n",
      "  df[col] = pd.to_datetime(df[col], utc=True)\n",
      "/Users/yamada/miniforge3/envs/.env_mineracao/lib/python3.11/site-packages/pm4py/objects/log/util/dataframe_utils.py:176: UserWarning: Could not infer format, so each element will be parsed individually, falling back to `dateutil`. To ensure parsing is consistent and as-expected, please specify a format.\n",
      "  df[col] = pd.to_datetime(df[col], utc=True)\n",
      "/Users/yamada/miniforge3/envs/.env_mineracao/lib/python3.11/site-packages/pm4py/objects/log/util/dataframe_utils.py:176: UserWarning: Could not infer format, so each element will be parsed individually, falling back to `dateutil`. To ensure parsing is consistent and as-expected, please specify a format.\n",
      "  df[col] = pd.to_datetime(df[col], utc=True)\n",
      "/Users/yamada/miniforge3/envs/.env_mineracao/lib/python3.11/site-packages/pm4py/objects/log/util/dataframe_utils.py:176: UserWarning: Could not infer format, so each element will be parsed individually, falling back to `dateutil`. To ensure parsing is consistent and as-expected, please specify a format.\n",
      "  df[col] = pd.to_datetime(df[col], utc=True)\n",
      "/Users/yamada/miniforge3/envs/.env_mineracao/lib/python3.11/site-packages/pm4py/objects/log/util/dataframe_utils.py:176: UserWarning: Could not infer format, so each element will be parsed individually, falling back to `dateutil`. To ensure parsing is consistent and as-expected, please specify a format.\n",
      "  df[col] = pd.to_datetime(df[col], utc=True)\n",
      "/Users/yamada/miniforge3/envs/.env_mineracao/lib/python3.11/site-packages/pm4py/objects/log/util/dataframe_utils.py:176: UserWarning: Could not infer format, so each element will be parsed individually, falling back to `dateutil`. To ensure parsing is consistent and as-expected, please specify a format.\n",
      "  df[col] = pd.to_datetime(df[col], utc=True)\n",
      "/Users/yamada/miniforge3/envs/.env_mineracao/lib/python3.11/site-packages/pm4py/objects/log/util/dataframe_utils.py:176: UserWarning: Could not infer format, so each element will be parsed individually, falling back to `dateutil`. To ensure parsing is consistent and as-expected, please specify a format.\n",
      "  df[col] = pd.to_datetime(df[col], utc=True)\n",
      "/Users/yamada/miniforge3/envs/.env_mineracao/lib/python3.11/site-packages/pm4py/objects/log/util/dataframe_utils.py:176: UserWarning: Could not infer format, so each element will be parsed individually, falling back to `dateutil`. To ensure parsing is consistent and as-expected, please specify a format.\n",
      "  df[col] = pd.to_datetime(df[col], utc=True)\n",
      "/Users/yamada/miniforge3/envs/.env_mineracao/lib/python3.11/site-packages/pm4py/objects/log/util/dataframe_utils.py:176: UserWarning: Could not infer format, so each element will be parsed individually, falling back to `dateutil`. To ensure parsing is consistent and as-expected, please specify a format.\n",
      "  df[col] = pd.to_datetime(df[col], utc=True)\n",
      "/Users/yamada/miniforge3/envs/.env_mineracao/lib/python3.11/site-packages/pm4py/objects/log/util/dataframe_utils.py:176: UserWarning: Could not infer format, so each element will be parsed individually, falling back to `dateutil`. To ensure parsing is consistent and as-expected, please specify a format.\n",
      "  df[col] = pd.to_datetime(df[col], utc=True)\n",
      "/Users/yamada/miniforge3/envs/.env_mineracao/lib/python3.11/site-packages/pm4py/objects/log/util/dataframe_utils.py:176: UserWarning: Could not infer format, so each element will be parsed individually, falling back to `dateutil`. To ensure parsing is consistent and as-expected, please specify a format.\n",
      "  df[col] = pd.to_datetime(df[col], utc=True)\n",
      "/Users/yamada/miniforge3/envs/.env_mineracao/lib/python3.11/site-packages/pm4py/objects/log/util/dataframe_utils.py:176: UserWarning: Could not infer format, so each element will be parsed individually, falling back to `dateutil`. To ensure parsing is consistent and as-expected, please specify a format.\n",
      "  df[col] = pd.to_datetime(df[col], utc=True)\n",
      "/Users/yamada/miniforge3/envs/.env_mineracao/lib/python3.11/site-packages/pm4py/objects/log/util/dataframe_utils.py:176: UserWarning: Could not infer format, so each element will be parsed individually, falling back to `dateutil`. To ensure parsing is consistent and as-expected, please specify a format.\n",
      "  df[col] = pd.to_datetime(df[col], utc=True)\n",
      "/Users/yamada/miniforge3/envs/.env_mineracao/lib/python3.11/site-packages/pm4py/objects/log/util/dataframe_utils.py:176: UserWarning: Could not infer format, so each element will be parsed individually, falling back to `dateutil`. To ensure parsing is consistent and as-expected, please specify a format.\n",
      "  df[col] = pd.to_datetime(df[col], utc=True)\n",
      "/Users/yamada/miniforge3/envs/.env_mineracao/lib/python3.11/site-packages/pm4py/objects/log/util/dataframe_utils.py:176: UserWarning: Could not infer format, so each element will be parsed individually, falling back to `dateutil`. To ensure parsing is consistent and as-expected, please specify a format.\n",
      "  df[col] = pd.to_datetime(df[col], utc=True)\n",
      "replaying log with TBR, completed variants :: 100%|██████████| 903/903 [00:04<00:00, 222.13it/s]\n"
     ]
    },
    {
     "name": "stdout",
     "output_type": "stream",
     "text": [
      "Precision - Token replay: 0.12207309105013397\n"
     ]
    },
    {
     "name": "stderr",
     "output_type": "stream",
     "text": [
      "replaying log with TBR, completed variants :: 100%|██████████| 202/202 [00:01<00:00, 143.50it/s]\n"
     ]
    },
    {
     "name": "stdout",
     "output_type": "stream",
     "text": [
      "Generalization: 0.9097203256128684\n",
      "Simplicity: 0.5862068965517241\n"
     ]
    },
    {
     "name": "stderr",
     "output_type": "stream",
     "text": [
      "replaying log with TBR, completed variants :: 100%|██████████| 903/903 [00:00<00:00, 1950.06it/s]\n"
     ]
    },
    {
     "name": "stdout",
     "output_type": "stream",
     "text": [
      "Precision - Token replay: 0.958789019115937\n"
     ]
    },
    {
     "name": "stderr",
     "output_type": "stream",
     "text": [
      "replaying log with TBR, completed variants :: 100%|██████████| 202/202 [00:00<00:00, 908.79it/s] \n"
     ]
    },
    {
     "name": "stdout",
     "output_type": "stream",
     "text": [
      "Generalization: 0.5988575329285628\n",
      "Simplicity: 0.5238095238095238\n"
     ]
    },
    {
     "name": "stderr",
     "output_type": "stream",
     "text": [
      "replaying log with TBR, completed variants :: 100%|██████████| 903/903 [00:00<00:00, 6123.73it/s]\n"
     ]
    },
    {
     "name": "stdout",
     "output_type": "stream",
     "text": [
      "Precision - Token replay: 0.9821635672865426\n"
     ]
    },
    {
     "name": "stderr",
     "output_type": "stream",
     "text": [
      "replaying log with TBR, completed variants :: 100%|██████████| 202/202 [00:00<00:00, 2681.75it/s]"
     ]
    },
    {
     "name": "stdout",
     "output_type": "stream",
     "text": [
      "Generalization: 0.829298658766102\n",
      "Simplicity: 0.6103896103896105\n"
     ]
    },
    {
     "name": "stderr",
     "output_type": "stream",
     "text": [
      "\n",
      "replaying log with TBR, completed variants :: 100%|██████████| 903/903 [00:00<00:00, 15461.78it/s]\n"
     ]
    },
    {
     "name": "stdout",
     "output_type": "stream",
     "text": [
      "Precision - Token replay: 0.0\n"
     ]
    },
    {
     "name": "stderr",
     "output_type": "stream",
     "text": [
      "replaying log with TBR, completed variants :: 100%|██████████| 202/202 [00:00<00:00, 853.03it/s]\n"
     ]
    },
    {
     "name": "stdout",
     "output_type": "stream",
     "text": [
      "Generalization: 0.8773091720949231\n",
      "Simplicity: 0.19407894736842107\n"
     ]
    },
    {
     "name": "stderr",
     "output_type": "stream",
     "text": [
      "replaying log with TBR, completed variants :: 100%|██████████| 903/903 [00:00<00:00, 3872.56it/s]\n"
     ]
    },
    {
     "name": "stdout",
     "output_type": "stream",
     "text": [
      "Precision - Token replay: 1.0\n"
     ]
    },
    {
     "name": "stderr",
     "output_type": "stream",
     "text": [
      "replaying log with TBR, completed variants :: 100%|██████████| 202/202 [00:00<00:00, 387.22it/s]"
     ]
    },
    {
     "name": "stdout",
     "output_type": "stream",
     "text": [
      "Generalization: 0.8821865014090176\n",
      "Simplicity: 0.08978328173374614\n"
     ]
    },
    {
     "name": "stderr",
     "output_type": "stream",
     "text": [
      "\n"
     ]
    }
   ],
   "source": [
    "path_folder_file = \"/Users/yamada/USP/Materias/7 semestre/Mineracao de dados/Celonis Dataset/BPI Challenge 2020 - Prepaid Travel Costs/\"\n",
    "path_folder_bpmn = \"/Users/yamada/USP/Materias/7 semestre/Mineracao de dados/Celonis Dataset/BPI Challenge 2020 - Prepaid Travel Costs/\"\n",
    "path_folder_png = \".\"\n",
    "results = discovery(path_folder_file,path_folder_bpmn,path_folder_png)"
   ]
  },
  {
   "cell_type": "code",
   "execution_count": 3,
   "metadata": {},
   "outputs": [
    {
     "data": {
      "text/plain": [
       "{'Inductive_Miner': {'Precisao': 0.12207309105013397,\n",
       "  'Generalizacao': 0.9097203256128684,\n",
       "  'Simplicidade': 0.5862068965517241},\n",
       " 'Heuristic_Miner': {'Precisao': 0.958789019115937,\n",
       "  'Generalizacao': 0.5988575329285628,\n",
       "  'Simplicidade': 0.5238095238095238},\n",
       " 'Heuristic_Miner_0.99': {'Precisao': 0.9821635672865426,\n",
       "  'Generalizacao': 0.829298658766102,\n",
       "  'Simplicidade': 0.6103896103896105},\n",
       " 'Alpha': {'Precisao': 0.0,\n",
       "  'Generalizacao': 0.8773091720949231,\n",
       "  'Simplicidade': 0.19407894736842107},\n",
       " 'Alpha_Plus': {'Precisao': 1.0,\n",
       "  'Generalizacao': 0.8821865014090176,\n",
       "  'Simplicidade': 0.08978328173374614}}"
      ]
     },
     "execution_count": 3,
     "metadata": {},
     "output_type": "execute_result"
    }
   ],
   "source": [
    "results\n"
   ]
  },
  {
   "cell_type": "code",
   "execution_count": 9,
   "metadata": {},
   "outputs": [
    {
     "data": {
      "text/html": [
       "<div>\n",
       "<style scoped>\n",
       "    .dataframe tbody tr th:only-of-type {\n",
       "        vertical-align: middle;\n",
       "    }\n",
       "\n",
       "    .dataframe tbody tr th {\n",
       "        vertical-align: top;\n",
       "    }\n",
       "\n",
       "    .dataframe thead th {\n",
       "        text-align: right;\n",
       "    }\n",
       "</style>\n",
       "<table border=\"1\" class=\"dataframe\">\n",
       "  <thead>\n",
       "    <tr style=\"text-align: right;\">\n",
       "      <th></th>\n",
       "      <th>Inductive_Miner</th>\n",
       "      <th>Heuristic_Miner</th>\n",
       "      <th>Heuristic_Miner_0.99</th>\n",
       "      <th>Alpha</th>\n",
       "      <th>Alpha_Plus</th>\n",
       "    </tr>\n",
       "  </thead>\n",
       "  <tbody>\n",
       "    <tr>\n",
       "      <th>Precisao</th>\n",
       "      <td>0.122073</td>\n",
       "      <td>0.958789</td>\n",
       "      <td>0.982164</td>\n",
       "      <td>0.000000</td>\n",
       "      <td>1.000000</td>\n",
       "    </tr>\n",
       "    <tr>\n",
       "      <th>Generalizacao</th>\n",
       "      <td>0.909720</td>\n",
       "      <td>0.598858</td>\n",
       "      <td>0.829299</td>\n",
       "      <td>0.877309</td>\n",
       "      <td>0.882187</td>\n",
       "    </tr>\n",
       "    <tr>\n",
       "      <th>Simplicidade</th>\n",
       "      <td>0.586207</td>\n",
       "      <td>0.523810</td>\n",
       "      <td>0.610390</td>\n",
       "      <td>0.194079</td>\n",
       "      <td>0.089783</td>\n",
       "    </tr>\n",
       "  </tbody>\n",
       "</table>\n",
       "</div>"
      ],
      "text/plain": [
       "               Inductive_Miner  Heuristic_Miner  Heuristic_Miner_0.99   \n",
       "Precisao              0.122073         0.958789              0.982164  \\\n",
       "Generalizacao         0.909720         0.598858              0.829299   \n",
       "Simplicidade          0.586207         0.523810              0.610390   \n",
       "\n",
       "                  Alpha  Alpha_Plus  \n",
       "Precisao       0.000000    1.000000  \n",
       "Generalizacao  0.877309    0.882187  \n",
       "Simplicidade   0.194079    0.089783  "
      ]
     },
     "execution_count": 9,
     "metadata": {},
     "output_type": "execute_result"
    }
   ],
   "source": [
    "pd.DataFrame(results)"
   ]
  },
  {
   "cell_type": "code",
   "execution_count": 8,
   "metadata": {},
   "outputs": [
    {
     "data": {
      "text/plain": [
       "(array([0, 1, 2]),\n",
       " [Text(0, 0, 'Precisao'),\n",
       "  Text(1, 0, 'Generalizacao'),\n",
       "  Text(2, 0, 'Simplicidade')])"
      ]
     },
     "execution_count": 8,
     "metadata": {},
     "output_type": "execute_result"
    },
    {
     "data": {
      "image/png": "[encoded data removed]",
      "text/plain": [
       "<Figure size 640x480 with 1 Axes>"
      ]
     },
     "metadata": {},
     "output_type": "display_data"
    }
   ],
   "source": [
    "pd.DataFrame(results).plot(kind='bar')\n",
    "plt.title(\"oOmparação entre as Métricas de Qualidade de cada modelo\",fontdict = {'fontweight':'bold'})\n",
    "plt.ylabel(\"Valor da Métrica\",fontdict = {'fontweight':'bold'})\n",
    "plt.xlabel(\"Métrica\",fontdict = {'fontweight':'bold'})\n",
    "plt.xticks(rotation=0)"
   ]
  },
  {
   "cell_type": "code",
   "execution_count": null,
   "metadata": {},
   "outputs": [],
   "source": []
  }
 ],
 "metadata": {
  "kernelspec": {
   "display_name": ".env_mineracao",
   "language": "python",
   "name": "python3"
  },
  "language_info": {
   "codemirror_mode": {
    "name": "ipython",
    "version": 3
   },
   "file_extension": ".py",
   "mimetype": "text/x-python",
   "name": "python",
   "nbconvert_exporter": "python",
   "pygments_lexer": "ipython3",
   "version": "3.11.3"
  },
  "orig_nbformat": 4
 },
 "nbformat": 4,
 "nbformat_minor": 2
}
